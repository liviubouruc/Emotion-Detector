{
  "nbformat": 4,
  "nbformat_minor": 0,
  "metadata": {
    "colab": {
      "name": "emotion-detection-project.ipynb",
      "provenance": [],
      "collapsed_sections": []
    },
    "kernelspec": {
      "name": "python3",
      "display_name": "Python 3"
    },
    "language_info": {
      "name": "python"
    }
  },
  "cells": [
    {
      "cell_type": "code",
      "execution_count": 1,
      "metadata": {
        "id": "tH1CSNSdUvop",
        "colab": {
          "base_uri": "https://localhost:8080/"
        },
        "outputId": "4f7bf821-a9f1-4191-e1c2-faeb17eae3cc"
      },
      "outputs": [
        {
          "output_type": "stream",
          "name": "stdout",
          "text": [
            "Mounted at /content/gdrive\n"
          ]
        }
      ],
      "source": [
        "from google.colab import drive\n",
        "drive.mount('/content/gdrive')"
      ]
    },
    {
      "cell_type": "code",
      "source": [
        "!pip install transformers"
      ],
      "metadata": {
        "colab": {
          "base_uri": "https://localhost:8080/"
        },
        "id": "rKYo4l2SWJ4f",
        "outputId": "5c0773b2-53a9-4909-add4-8260dd325050"
      },
      "execution_count": 2,
      "outputs": [
        {
          "output_type": "stream",
          "name": "stdout",
          "text": [
            "Collecting transformers\n",
            "  Downloading transformers-4.18.0-py3-none-any.whl (4.0 MB)\n",
            "\u001b[K     |████████████████████████████████| 4.0 MB 4.5 MB/s \n",
            "\u001b[?25hCollecting huggingface-hub<1.0,>=0.1.0\n",
            "  Downloading huggingface_hub-0.5.1-py3-none-any.whl (77 kB)\n",
            "\u001b[K     |████████████████████████████████| 77 kB 4.5 MB/s \n",
            "\u001b[?25hCollecting sacremoses\n",
            "  Downloading sacremoses-0.0.49-py3-none-any.whl (895 kB)\n",
            "\u001b[K     |████████████████████████████████| 895 kB 35.8 MB/s \n",
            "\u001b[?25hRequirement already satisfied: numpy>=1.17 in /usr/local/lib/python3.7/dist-packages (from transformers) (1.21.6)\n",
            "Requirement already satisfied: regex!=2019.12.17 in /usr/local/lib/python3.7/dist-packages (from transformers) (2019.12.20)\n",
            "Requirement already satisfied: importlib-metadata in /usr/local/lib/python3.7/dist-packages (from transformers) (4.11.3)\n",
            "Requirement already satisfied: packaging>=20.0 in /usr/local/lib/python3.7/dist-packages (from transformers) (21.3)\n",
            "Requirement already satisfied: requests in /usr/local/lib/python3.7/dist-packages (from transformers) (2.23.0)\n",
            "Requirement already satisfied: filelock in /usr/local/lib/python3.7/dist-packages (from transformers) (3.6.0)\n",
            "Requirement already satisfied: tqdm>=4.27 in /usr/local/lib/python3.7/dist-packages (from transformers) (4.64.0)\n",
            "Collecting tokenizers!=0.11.3,<0.13,>=0.11.1\n",
            "  Downloading tokenizers-0.12.1-cp37-cp37m-manylinux_2_12_x86_64.manylinux2010_x86_64.whl (6.6 MB)\n",
            "\u001b[K     |████████████████████████████████| 6.6 MB 35.3 MB/s \n",
            "\u001b[?25hCollecting pyyaml>=5.1\n",
            "  Downloading PyYAML-6.0-cp37-cp37m-manylinux_2_5_x86_64.manylinux1_x86_64.manylinux_2_12_x86_64.manylinux2010_x86_64.whl (596 kB)\n",
            "\u001b[K     |████████████████████████████████| 596 kB 18.5 MB/s \n",
            "\u001b[?25hRequirement already satisfied: typing-extensions>=3.7.4.3 in /usr/local/lib/python3.7/dist-packages (from huggingface-hub<1.0,>=0.1.0->transformers) (4.1.1)\n",
            "Requirement already satisfied: pyparsing!=3.0.5,>=2.0.2 in /usr/local/lib/python3.7/dist-packages (from packaging>=20.0->transformers) (3.0.8)\n",
            "Requirement already satisfied: zipp>=0.5 in /usr/local/lib/python3.7/dist-packages (from importlib-metadata->transformers) (3.8.0)\n",
            "Requirement already satisfied: urllib3!=1.25.0,!=1.25.1,<1.26,>=1.21.1 in /usr/local/lib/python3.7/dist-packages (from requests->transformers) (1.24.3)\n",
            "Requirement already satisfied: certifi>=2017.4.17 in /usr/local/lib/python3.7/dist-packages (from requests->transformers) (2021.10.8)\n",
            "Requirement already satisfied: chardet<4,>=3.0.2 in /usr/local/lib/python3.7/dist-packages (from requests->transformers) (3.0.4)\n",
            "Requirement already satisfied: idna<3,>=2.5 in /usr/local/lib/python3.7/dist-packages (from requests->transformers) (2.10)\n",
            "Requirement already satisfied: joblib in /usr/local/lib/python3.7/dist-packages (from sacremoses->transformers) (1.1.0)\n",
            "Requirement already satisfied: click in /usr/local/lib/python3.7/dist-packages (from sacremoses->transformers) (7.1.2)\n",
            "Requirement already satisfied: six in /usr/local/lib/python3.7/dist-packages (from sacremoses->transformers) (1.15.0)\n",
            "Installing collected packages: pyyaml, tokenizers, sacremoses, huggingface-hub, transformers\n",
            "  Attempting uninstall: pyyaml\n",
            "    Found existing installation: PyYAML 3.13\n",
            "    Uninstalling PyYAML-3.13:\n",
            "      Successfully uninstalled PyYAML-3.13\n",
            "Successfully installed huggingface-hub-0.5.1 pyyaml-6.0 sacremoses-0.0.49 tokenizers-0.12.1 transformers-4.18.0\n"
          ]
        }
      ]
    },
    {
      "cell_type": "code",
      "source": [
        "!pip install demoji"
      ],
      "metadata": {
        "colab": {
          "base_uri": "https://localhost:8080/"
        },
        "id": "qJxQNfwqZMOP",
        "outputId": "f4c53560-d1c2-42b1-926b-f1468429e19f"
      },
      "execution_count": 3,
      "outputs": [
        {
          "output_type": "stream",
          "name": "stdout",
          "text": [
            "Collecting demoji\n",
            "  Downloading demoji-1.1.0-py3-none-any.whl (42 kB)\n",
            "\u001b[?25l\r\u001b[K     |███████▋                        | 10 kB 18.8 MB/s eta 0:00:01\r\u001b[K     |███████████████▎                | 20 kB 11.1 MB/s eta 0:00:01\r\u001b[K     |███████████████████████         | 30 kB 8.1 MB/s eta 0:00:01\r\u001b[K     |██████████████████████████████▋ | 40 kB 7.1 MB/s eta 0:00:01\r\u001b[K     |████████████████████████████████| 42 kB 830 kB/s \n",
            "\u001b[?25hInstalling collected packages: demoji\n",
            "Successfully installed demoji-1.1.0\n"
          ]
        }
      ]
    },
    {
      "cell_type": "code",
      "source": [
        "!pip install flashtext"
      ],
      "metadata": {
        "colab": {
          "base_uri": "https://localhost:8080/"
        },
        "id": "cuvw0vqohI7j",
        "outputId": "0f3bfe94-8282-4c6c-a296-b3f47d356308"
      },
      "execution_count": 4,
      "outputs": [
        {
          "output_type": "stream",
          "name": "stdout",
          "text": [
            "Collecting flashtext\n",
            "  Downloading flashtext-2.7.tar.gz (14 kB)\n",
            "Building wheels for collected packages: flashtext\n",
            "  Building wheel for flashtext (setup.py) ... \u001b[?25l\u001b[?25hdone\n",
            "  Created wheel for flashtext: filename=flashtext-2.7-py2.py3-none-any.whl size=9309 sha256=5d54fad0d04639bc1bdfc573a1ba8f6cfd463a8350a073f26b41eea0fa47bb03\n",
            "  Stored in directory: /root/.cache/pip/wheels/cb/19/58/4e8fdd0009a7f89dbce3c18fff2e0d0fa201d5cdfd16f113b7\n",
            "Successfully built flashtext\n",
            "Installing collected packages: flashtext\n",
            "Successfully installed flashtext-2.7\n"
          ]
        }
      ]
    },
    {
      "cell_type": "code",
      "source": [
        "!pip install pyspellchecker"
      ],
      "metadata": {
        "id": "rVKEko_R3DYw",
        "colab": {
          "base_uri": "https://localhost:8080/"
        },
        "outputId": "7732bafe-dba2-4c10-cdef-2b08dca8e85f"
      },
      "execution_count": 5,
      "outputs": [
        {
          "output_type": "stream",
          "name": "stdout",
          "text": [
            "Collecting pyspellchecker\n",
            "  Downloading pyspellchecker-0.6.3-py3-none-any.whl (2.7 MB)\n",
            "\u001b[K     |████████████████████████████████| 2.7 MB 5.0 MB/s \n",
            "\u001b[?25hInstalling collected packages: pyspellchecker\n",
            "Successfully installed pyspellchecker-0.6.3\n"
          ]
        }
      ]
    },
    {
      "cell_type": "code",
      "source": [
        "!pip install unidecode"
      ],
      "metadata": {
        "colab": {
          "base_uri": "https://localhost:8080/"
        },
        "id": "CIwmppQcGBCA",
        "outputId": "2ae3372f-e4b1-466c-ec75-93b1308b45fc"
      },
      "execution_count": 6,
      "outputs": [
        {
          "output_type": "stream",
          "name": "stdout",
          "text": [
            "Collecting unidecode\n",
            "  Downloading Unidecode-1.3.4-py3-none-any.whl (235 kB)\n",
            "\u001b[?25l\r\u001b[K     |█▍                              | 10 kB 19.8 MB/s eta 0:00:01\r\u001b[K     |██▉                             | 20 kB 15.5 MB/s eta 0:00:01\r\u001b[K     |████▏                           | 30 kB 10.6 MB/s eta 0:00:01\r\u001b[K     |█████▋                          | 40 kB 4.6 MB/s eta 0:00:01\r\u001b[K     |███████                         | 51 kB 4.4 MB/s eta 0:00:01\r\u001b[K     |████████▍                       | 61 kB 5.1 MB/s eta 0:00:01\r\u001b[K     |█████████▊                      | 71 kB 5.8 MB/s eta 0:00:01\r\u001b[K     |███████████▏                    | 81 kB 5.3 MB/s eta 0:00:01\r\u001b[K     |████████████▌                   | 92 kB 5.9 MB/s eta 0:00:01\r\u001b[K     |██████████████                  | 102 kB 5.2 MB/s eta 0:00:01\r\u001b[K     |███████████████▎                | 112 kB 5.2 MB/s eta 0:00:01\r\u001b[K     |████████████████▊               | 122 kB 5.2 MB/s eta 0:00:01\r\u001b[K     |██████████████████              | 133 kB 5.2 MB/s eta 0:00:01\r\u001b[K     |███████████████████▌            | 143 kB 5.2 MB/s eta 0:00:01\r\u001b[K     |████████████████████▉           | 153 kB 5.2 MB/s eta 0:00:01\r\u001b[K     |██████████████████████▎         | 163 kB 5.2 MB/s eta 0:00:01\r\u001b[K     |███████████████████████▋        | 174 kB 5.2 MB/s eta 0:00:01\r\u001b[K     |█████████████████████████       | 184 kB 5.2 MB/s eta 0:00:01\r\u001b[K     |██████████████████████████▍     | 194 kB 5.2 MB/s eta 0:00:01\r\u001b[K     |███████████████████████████▉    | 204 kB 5.2 MB/s eta 0:00:01\r\u001b[K     |█████████████████████████████▏  | 215 kB 5.2 MB/s eta 0:00:01\r\u001b[K     |██████████████████████████████▋ | 225 kB 5.2 MB/s eta 0:00:01\r\u001b[K     |████████████████████████████████| 235 kB 5.2 MB/s eta 0:00:01\r\u001b[K     |████████████████████████████████| 235 kB 5.2 MB/s \n",
            "\u001b[?25hInstalling collected packages: unidecode\n",
            "Successfully installed unidecode-1.3.4\n"
          ]
        }
      ]
    },
    {
      "cell_type": "code",
      "source": [
        "!pip install emot"
      ],
      "metadata": {
        "colab": {
          "base_uri": "https://localhost:8080/"
        },
        "id": "PSrOm_GF7kr-",
        "outputId": "2b2bed59-b3a2-4f03-a4b7-fd98ef101d0a"
      },
      "execution_count": 7,
      "outputs": [
        {
          "output_type": "stream",
          "name": "stdout",
          "text": [
            "Collecting emot\n",
            "  Downloading emot-3.1-py3-none-any.whl (61 kB)\n",
            "\u001b[?25l\r\u001b[K     |█████▎                          | 10 kB 18.7 MB/s eta 0:00:01\r\u001b[K     |██████████▋                     | 20 kB 11.7 MB/s eta 0:00:01\r\u001b[K     |████████████████                | 30 kB 9.0 MB/s eta 0:00:01\r\u001b[K     |█████████████████████▎          | 40 kB 8.3 MB/s eta 0:00:01\r\u001b[K     |██████████████████████████▋     | 51 kB 5.0 MB/s eta 0:00:01\r\u001b[K     |████████████████████████████████| 61 kB 5.1 MB/s eta 0:00:01\r\u001b[K     |████████████████████████████████| 61 kB 14 kB/s \n",
            "\u001b[?25hInstalling collected packages: emot\n",
            "Successfully installed emot-3.1\n"
          ]
        }
      ]
    },
    {
      "cell_type": "code",
      "source": [
        "import os # OS path\n",
        "import numpy as np # NumPy\n",
        "import pandas as pd # Files read\n",
        "import re # Regex for strings\n",
        "from sklearn.preprocessing import StandardScaler\n",
        "from sklearn.metrics import confusion_matrix\n",
        "from sklearn.model_selection import train_test_split\n",
        "from sklearn.metrics import accuracy_score\n",
        "from torch.utils.data import DataLoader, Dataset, RandomSampler\n",
        "from torchtext import datasets\n",
        "from collections import defaultdict\n",
        "from typing import Dict, List\n",
        "from torch import Tensor\n",
        "import torch\n",
        "import torch.nn as nn\n",
        "#from transformers.models.bert.tokenization_bert import BasicTokenizer\n",
        "import math\n",
        "from transformers.models.bert.tokenization_bert import BasicTokenizer\n",
        "import nltk\n",
        "from nltk.tokenize import TweetTokenizer\n",
        "from nltk.corpus import words\n",
        "nltk.download('words')\n",
        "import demoji\n",
        "demoji.download_codes()\n",
        "from spellchecker import SpellChecker\n",
        "from emot.emo_unicode import UNICODE_EMOJI, UNICODE_EMOJI_ALIAS, EMOTICONS_EMO\n",
        "from flashtext import KeywordProcessor\n",
        "import unidecode\n",
        "from tqdm import tqdm\n",
        "import matplotlib.pyplot as plt\n",
        "from sklearn.metrics import precision_recall_fscore_support"
      ],
      "metadata": {
        "id": "NsHdPiQ_WplQ",
        "colab": {
          "base_uri": "https://localhost:8080/"
        },
        "outputId": "5c4e935b-5cdd-4c28-bdfd-d8c8ca7203bf"
      },
      "execution_count": 8,
      "outputs": [
        {
          "output_type": "stream",
          "name": "stdout",
          "text": [
            "[nltk_data] Downloading package words to /root/nltk_data...\n",
            "[nltk_data]   Unzipping corpora/words.zip.\n"
          ]
        },
        {
          "output_type": "stream",
          "name": "stderr",
          "text": [
            "/usr/local/lib/python3.7/dist-packages/ipykernel_launcher.py:24: FutureWarning: The demoji.download_codes attribute is deprecated and will be removed from demoji in a future version. It is an unused attribute as emoji codes are now distributed directly with the demoji package.\n"
          ]
        }
      ]
    },
    {
      "cell_type": "code",
      "source": [
        "import gensim.downloader as api\n",
        "glove_model = api.load('glove-twitter-200')"
      ],
      "metadata": {
        "id": "yjtPq0teXHf8",
        "colab": {
          "base_uri": "https://localhost:8080/"
        },
        "outputId": "ac17e4bb-605b-49a7-a038-ff089d1c03ee"
      },
      "execution_count": 9,
      "outputs": [
        {
          "output_type": "stream",
          "name": "stdout",
          "text": [
            "[==================================================] 100.0% 758.5/758.5MB downloaded\n"
          ]
        }
      ]
    },
    {
      "cell_type": "code",
      "source": [
        "root_path = 'gdrive/MyDrive/Colab Notebooks/proiect-deeplearning-emocontext/'"
      ],
      "metadata": {
        "id": "KBqzVfgxrbOI"
      },
      "execution_count": 10,
      "outputs": []
    },
    {
      "cell_type": "code",
      "source": [
        "tweet_tokenizer = TweetTokenizer()"
      ],
      "metadata": {
        "id": "PVEQNEYL9Bwv"
      },
      "execution_count": 11,
      "outputs": []
    },
    {
      "cell_type": "code",
      "source": [
        "def token_custom(sent):\n",
        "  all_emoji_emoticons = {**EMOTICONS_EMO,**UNICODE_EMOJI_ALIAS, **UNICODE_EMOJI_ALIAS}\n",
        "  all_emoji_emoticons = {k:v.replace(\":\",\"\").replace(\"_\",\" \").strip() for k,v in all_emoji_emoticons.items()}\n",
        "\n",
        "  kp_all_emoji_emoticons = KeywordProcessor()\n",
        "  for k,v in all_emoji_emoticons.items():\n",
        "      kp_all_emoji_emoticons.add_keyword(k, v)\n",
        "\n",
        "  emoji_d = demoji.findall(sent)\n",
        "  for i in range(len(sent)):\n",
        "    if sent[i] not in emoji_d:\n",
        "      if unidecode.unidecode(sent[i]) != \"\":\n",
        "        sent = sent.replace(sent[i], unidecode.unidecode(sent[i]))\n",
        "\n",
        "  text = kp_all_emoji_emoticons.replace_keywords(sent) # transform din emoticon in text\n",
        "  tokenized = tweet_tokenizer.tokenize(text)\n",
        "\n",
        "  turn_utt = []\n",
        "  spell = SpellChecker()\n",
        "\n",
        "  for i in range(len(tokenized)):\n",
        "    emoji_d = demoji.findall(tokenized[i])\n",
        "    if tokenized[i] in emoji_d:\n",
        "      tokenized[i] = emoji_d[tokenized[i]] # transform din emoji in text\n",
        "\n",
        "    word_tokenized = tweet_tokenizer.tokenize(tokenized[i])\n",
        "    for word in word_tokenized:\n",
        "      word = word.lower()\n",
        "      word = re.sub(r'(.)\\1+', r'\\1\\1', word)\n",
        "      word = spell.correction(word)\n",
        "      turn_utt.append(word)\n",
        "\n",
        "  return turn_utt\n",
        "\n",
        "\n",
        "#sent = \"İ Don't worry  I'm girl 😘😍😻 ;) :) :)) !\"\n",
        "sent = \"🖑😂\"\n",
        "print(token_custom(sent))"
      ],
      "metadata": {
        "id": "UROyGXTCYY8c",
        "colab": {
          "base_uri": "https://localhost:8080/"
        },
        "outputId": "0543da2e-2b70-45d4-adab-25e7d8884561"
      },
      "execution_count": 12,
      "outputs": [
        {
          "output_type": "stream",
          "name": "stdout",
          "text": [
            "['i', 'joy']\n"
          ]
        }
      ]
    },
    {
      "cell_type": "code",
      "source": [
        "# litere mici, corectat, repeated ch\n",
        "data = pd.read_csv(root_path + 'train.txt', sep='\\t', header=0)\n",
        "anw = 0\n",
        "min_len = math.inf\n",
        "max_len = 0\n",
        "emoji_nr = 0\n",
        "\n",
        "word_count = defaultdict(int)\n",
        "train_data, train_labels = [], [] \n",
        "\n",
        "for idx, row in data.iterrows(): \n",
        "  words_row = 0\n",
        "  len_c_row = 0\n",
        "  row_utt = []\n",
        "\n",
        "  for turn in row[1:4]:\n",
        "    words_row += len(turn.split())\n",
        "    len_c_row += len(turn)\n",
        "    emoji_nr += len(demoji.findall_list(turn))\n",
        "\n",
        "    row_utt.append(token_custom(turn))\n",
        "\n",
        "  train_data.append(row_utt[0] + row_utt[1] + row_utt[2])\n",
        "  for tok in train_data[-1]:\n",
        "        word_count[tok] += 1\n",
        "\n",
        "  if row[4] == 'happy':\n",
        "    train_labels.append(0)\n",
        "  elif row[4] == 'sad':\n",
        "    train_labels.append(1)\n",
        "  elif row[4] == 'angry':\n",
        "    train_labels.append(2)\n",
        "  elif row[4] == 'others':\n",
        "    train_labels.append(3)\n",
        "\n",
        "  if(max_len < len_c_row):\n",
        "    max_len = len_c_row #max nr of characters\n",
        "  if(min_len > len_c_row):\n",
        "    min_len = len_c_row # min nr of  characters\n",
        "\n",
        "  anw += words_row\n",
        "\n",
        "  if idx > 800:\n",
        "    break\n",
        "\n",
        "\n",
        "\n",
        "anw = anw/len(data) #avg words/examples\n",
        "emoji_avg = emoji_nr/len(data)\n",
        "print(anw, max_len, min_len,emoji_avg)"
      ],
      "metadata": {
        "id": "om2SWgkALDz1",
        "colab": {
          "base_uri": "https://localhost:8080/"
        },
        "outputId": "033247ea-21be-432a-c487-3d9ada0e75f7"
      },
      "execution_count": 13,
      "outputs": [
        {
          "output_type": "stream",
          "name": "stdout",
          "text": [
            "0.35881962864721484 284 8 0.010742705570291777\n"
          ]
        }
      ]
    },
    {
      "cell_type": "code",
      "source": [
        "anw = 0\n",
        "min_len = math.inf\n",
        "max_len = 0\n",
        "emoji_nr = 0\n",
        "data_t_l =0\n",
        "fisiere_intrare =[\"train.txt\",\"dev.txt\",\"test.txt\"]\n",
        "for intrare in fisiere_intrare:\n",
        "    data = pd.read_csv(root_path + intrare, sep='\\t', header=0)\n",
        "\n",
        "\n",
        "\n",
        "    word_count = defaultdict(int)\n",
        "    train_data, train_labels = [], [] \n",
        "\n",
        "    for idx, row in data.iterrows(): \n",
        "      words_row = 0\n",
        "      len_c_row = 0\n",
        "      row_utt = []\n",
        "\n",
        "      for turn in row[1:4]:\n",
        "        words_row += len(turn.split())\n",
        "        len_c_row += len(turn)\n",
        "        emoji_nr += len(demoji.findall_list(turn))\n",
        "\n",
        "      if(max_len < len_c_row):\n",
        "        max_len = len_c_row #max nr of characters\n",
        "      if(min_len > len_c_row):\n",
        "        min_len = len_c_row # min nr of  characters\n",
        "\n",
        "      anw += words_row\n",
        "    data_t_l += len(data)\n",
        "\n",
        "anw = anw/data_t_l #avg words/examples\n",
        "emoji_avg = emoji_nr/data_t_l\n",
        "print(anw, max_len, min_len,emoji_avg)"
      ],
      "metadata": {
        "id": "qxiyLlpygWTt"
      },
      "execution_count": null,
      "outputs": []
    },
    {
      "cell_type": "code",
      "source": [
        "data = pd.read_csv(root_path + 'dev.txt', sep='\\t', header=0)\n",
        "anw = 0\n",
        "min_len = math.inf\n",
        "max_len = 0\n",
        "\n",
        "val_data, val_labels = [], []\n",
        "\n",
        "for idx, row in data.iterrows(): \n",
        "  words_row = 0\n",
        "  len_c_row = 0\n",
        "  row_utt = []\n",
        "\n",
        "  for turn in row[1:4]:\n",
        "    words_row += len(turn.split())\n",
        "    len_c_row += len(turn)\n",
        "\n",
        "    row_utt.append(token_custom(turn))\n",
        "\n",
        "  val_data.append(row_utt[0] + row_utt[1] + row_utt[2])\n",
        "\n",
        "  if row[4] == 'happy':\n",
        "    val_labels.append(0)\n",
        "  elif row[4] == 'sad':\n",
        "    val_labels.append(1)\n",
        "  elif row[4] == 'angry':\n",
        "    val_labels.append(2)\n",
        "  elif row[4] == 'others':\n",
        "    val_labels.append(3)\n",
        "\n",
        "  if(max_len < len_c_row):\n",
        "    max_len = len_c_row #max nr of characters\n",
        "  if(min_len > len_c_row):\n",
        "    min_len = len_c_row # min nr of  characters\n",
        "\n",
        "  anw += words_row\n",
        "\n",
        "  if idx > 200:\n",
        "    break"
      ],
      "metadata": {
        "id": "oxpVwocA3qBv"
      },
      "execution_count": 15,
      "outputs": []
    },
    {
      "cell_type": "code",
      "source": [
        "print(len(train_labels))"
      ],
      "metadata": {
        "id": "Ti7D4phlDcjz",
        "colab": {
          "base_uri": "https://localhost:8080/"
        },
        "outputId": "7fce4da3-faf8-43b5-b68c-f22d59fb1834"
      },
      "execution_count": 14,
      "outputs": [
        {
          "output_type": "stream",
          "name": "stdout",
          "text": [
            "802\n"
          ]
        }
      ]
    },
    {
      "cell_type": "code",
      "source": [
        "class MLPNN(nn.Module):\n",
        "    def __init__(self, \n",
        "                 input_size: int, \n",
        "                 hidden_size: int, \n",
        "                 output_size: int,\n",
        "                 dropout_p: float,\n",
        "                 hidden_activation_fn = nn.Tanh()):\n",
        "      \n",
        "        super().__init__()\n",
        "        self.layer_1 = nn.Linear(input_size, hidden_size)\n",
        "        self.output_layer = nn.Linear(hidden_size, output_size)\n",
        "        self.activation_fn = hidden_activation_fn\n",
        "        self.dropout = nn.Dropout(dropout_p)\n",
        "   \n",
        "    def forward(self, x):\n",
        "      out = self.activation_fn(self.layer_1(x))\n",
        "      out = self.dropout(out)\n",
        "      out = self.output_layer(out)\n",
        "      return out"
      ],
      "metadata": {
        "id": "-IijgPJ_7xMu"
      },
      "execution_count": 16,
      "outputs": []
    },
    {
      "cell_type": "code",
      "source": [
        "class MLPDataset(Dataset):\n",
        "    def __init__(self, \n",
        "                 tokenized_examples: List[List[str]], \n",
        "                 labels: List):\n",
        "        \"\"\"\n",
        "        tokenized_examples: lista de propozitii deja tokenizate\n",
        "        labels: lista cu label-urile corecte pentru fiecare propozitie\n",
        "        vocab: vocabular\n",
        "        \"\"\"\n",
        "        self.data = tokenized_examples\n",
        "        self.labels = torch.LongTensor(labels)\n",
        "\n",
        "    def __getitem__(self, index):\n",
        "        \"\"\"\n",
        "        index: indexul exemplului din setul nostru de date\n",
        "        Functia reprezinta fiecare cuvant cu indicele corespunzator din Vocabular:\n",
        "          ['wear', 'masks', '!'] => [31, 85, 422]\n",
        "\n",
        "        Pentru exemplul de la pozitia `index`, intoarcem un Tensor cu \n",
        "        indicii cuvintelor sale si un Tensor cu label-ul aferent.\n",
        "        \"\"\"\n",
        "        word2vec = []\n",
        "        for it in self.data[index]:\n",
        "          try:\n",
        "            word2vec.append(glove_model[it])\n",
        "          except:\n",
        "            continue \n",
        "\n",
        "        mean_vec = np.mean(word2vec, axis=0)\n",
        "        return torch.tensor(mean_vec), torch.LongTensor([self.labels[index]])\n",
        "\n",
        "    def __len__(self) -> int:\n",
        "        return len(self.data)"
      ],
      "metadata": {
        "id": "NMZgIgKUbGyM"
      },
      "execution_count": 17,
      "outputs": []
    },
    {
      "cell_type": "code",
      "source": [
        "train_dataset = MLPDataset(train_data, train_labels)\n",
        "val_dataset = MLPDataset(val_data, val_labels)\n",
        "\n",
        "train_sampler = RandomSampler(train_dataset)\n",
        "val_sampler = RandomSampler(val_dataset)\n",
        "\n",
        "train_dataloader = DataLoader(train_dataset, batch_size = 16, sampler = train_sampler)\n",
        "val_dataloader = DataLoader(val_dataset, batch_size = 16, sampler = val_sampler)"
      ],
      "metadata": {
        "id": "GH3hSQ5qlX3K"
      },
      "execution_count": 55,
      "outputs": []
    },
    {
      "cell_type": "code",
      "source": [
        "def train_epoch(model, train_dataloader, loss_crt, optimizer, device):\n",
        "    \"\"\"\n",
        "    model: Model object \n",
        "    train_dataloader: DataLoader over the training dataset\n",
        "    loss_crt: loss function object\n",
        "    optimizer: Optimizer object\n",
        "    device: torch.device('cpu) or torch.device('cuda')\n",
        "\n",
        "    The function returns: \n",
        "     - the epoch training loss, which is an average over the individual batch\n",
        "       losses\n",
        "     - the predictions made by the model\n",
        "     - the labels \n",
        "    \"\"\"\n",
        "    model.train()\n",
        "    epoch_loss = 0.0\n",
        "    num_batches = len(train_dataloader)\n",
        "    predictions = []\n",
        "    labels = []\n",
        "    for idx, batch in enumerate(train_dataloader):\n",
        "        batch_data, batch_labels = batch\n",
        "        current_batch_size = batch_data.size(0)\n",
        "\n",
        "        batch_data = batch_data.to(device)\n",
        "        batch_labels = batch_labels.to(device)\n",
        "\n",
        "        output = model(batch_data)\n",
        "        batch_predictions = torch.argmax(output, dim=1)\n",
        "        \n",
        "        predictions += batch_predictions.tolist()\n",
        "        labels += batch_labels.squeeze().tolist()\n",
        "\n",
        "        loss = loss_crt(output, batch_labels.squeeze())\n",
        "        loss_scalar = loss.item()\n",
        "\n",
        "        loss.backward()\n",
        "\n",
        "        optimizer.step()\n",
        "        model.zero_grad()\n",
        "\n",
        "        epoch_loss += loss_scalar\n",
        "\n",
        "    epoch_loss = epoch_loss/num_batches\n",
        "\n",
        "    return epoch_loss, predictions, labels\n",
        "\n",
        "def eval_epoch(model, val_dataloader, loss_crt, device):\n",
        "    \"\"\"\n",
        "    model: Model object \n",
        "    val_dataloader: DataLoader over the validation dataset\n",
        "    loss_crt: loss function object\n",
        "    device: torch.device('cpu) or torch.device('cuda')\n",
        "\n",
        "    The function returns: \n",
        "     - the epoch validation loss, which is an average over the individual batch\n",
        "       losses\n",
        "     - the predictions made by the model\n",
        "     - the labels \n",
        "    \"\"\"\n",
        "    model.eval()\n",
        "    epoch_loss = 0.0\n",
        "    num_batches = len(val_dataloader)\n",
        "    predictions = []\n",
        "    labels = []\n",
        "    with torch.no_grad():\n",
        "        for idx, batch in enumerate(val_dataloader):\n",
        "            batch_data, batch_labels = batch\n",
        "            current_batch_size = batch_data.size(0)\n",
        "\n",
        "            batch_data = batch_data.to(device)\n",
        "            batch_labels = batch_labels.to(device)\n",
        "            \n",
        "            output = model(batch_data)\n",
        "            batch_predictions = torch.argmax(output, dim=1)\n",
        "        \n",
        "            predictions += batch_predictions.tolist()\n",
        "            labels += batch_labels.squeeze().tolist()\n",
        "\n",
        "            loss = loss_crt(output, batch_labels.squeeze())\n",
        "            loss_scalar = loss.item()\n",
        "\n",
        "            epoch_loss += loss_scalar\n",
        "\n",
        "    epoch_loss = epoch_loss/num_batches\n",
        "\n",
        "    return epoch_loss, predictions, labels"
      ],
      "metadata": {
        "id": "pOHl4pQQrwA2"
      },
      "execution_count": 22,
      "outputs": []
    },
    {
      "cell_type": "code",
      "source": [
        "def compute_accuracy(predictions: List[int], labels:List[int]) -> float:\n",
        "    \"\"\"\n",
        "    Compute accuracy given the predictions of a binary classifier and the \n",
        "    ground truth label.\n",
        "    predictions: list of model predictions (0 or 1)\n",
        "    labels: list of ground truth labels (0 or 1)\n",
        "    \"\"\"\n",
        "    num_correct = len([(p,l) for (p,l) in zip(predictions,labels) if p==l])\n",
        "    epoch_accuracy = num_correct/len(labels)\n",
        "    \n",
        "    return epoch_accuracy"
      ],
      "metadata": {
        "id": "FkaVjs_-rrh5"
      },
      "execution_count": 20,
      "outputs": []
    },
    {
      "cell_type": "code",
      "source": [
        "hyperparams = {\n",
        "    'lr': 0.0001,\n",
        "    'num_epochs': 100,\n",
        "    'hidden_size': 512,\n",
        "    'output_size': 4,\n",
        "    'dropout': 0.6,\n",
        "    'activation_fn': nn.ReLU()\n",
        "}\n",
        "\n",
        "device = torch.device('cuda' if torch.cuda.is_available() else 'cpu')\n",
        "\n",
        "loss_criterion = nn.CrossEntropyLoss()\n",
        "\n",
        "model = MLPNN(\n",
        "    input_size = 200, # folosesc 200 features deoarece am ales glove cu varianta D=200\n",
        "    hidden_size = hyperparams['hidden_size'],\n",
        "    output_size = hyperparams['output_size'],\n",
        "    dropout_p = hyperparams['dropout'],\n",
        "    hidden_activation_fn = hyperparams['activation_fn']\n",
        ")\n",
        "model.to(device)\n",
        "\n",
        "optimizer = torch.optim.Adam(params=model.parameters(), lr=hyperparams['lr'], weight_decay=0.000001)\n",
        "\n",
        "train_losses, val_losses = [], []\n",
        "train_accuracies, val_accuracies = [], []\n",
        "best_val_acc = 0.0\n",
        "\n",
        "for epoch_idx in range(hyperparams['num_epochs']):\n",
        "    train_epoch_loss, train_predictions, train_labels = train_epoch(\n",
        "        model, \n",
        "        train_dataloader, \n",
        "        loss_criterion, \n",
        "        optimizer,\n",
        "        device\n",
        "    )\n",
        "    val_epoch_loss, val_predictions, val_labels = eval_epoch(\n",
        "        model,\n",
        "        val_dataloader,\n",
        "        loss_criterion,\n",
        "        device\n",
        "    )\n",
        "    train_acc = compute_accuracy(train_predictions, train_labels)\n",
        "    val_acc = compute_accuracy(val_predictions, val_labels)\n",
        "    train_losses.append(train_epoch_loss)\n",
        "    val_losses.append(val_epoch_loss)\n",
        "    train_accuracies.append(train_acc)\n",
        "    val_accuracies.append(val_acc)\n",
        "    \n",
        "\n",
        "    print(\"epoch %d, train loss=%f, train acc=%f, val loss=%f, val acc=%f\" % (\n",
        "        epoch_idx, \n",
        "        train_epoch_loss,\n",
        "        train_acc,\n",
        "        val_epoch_loss,\n",
        "        val_acc\n",
        "    ))"
      ],
      "metadata": {
        "id": "sszEZGpDrHgx",
        "colab": {
          "base_uri": "https://localhost:8080/"
        },
        "outputId": "10d0fb42-52cc-47a0-8f6e-855b70fb4567"
      },
      "execution_count": 64,
      "outputs": [
        {
          "output_type": "stream",
          "name": "stdout",
          "text": [
            "epoch 0, train loss=1.336345, train acc=0.421446, val loss=1.106607, val acc=0.841584\n",
            "epoch 1, train loss=1.268044, train acc=0.500000, val loss=0.975517, val acc=0.841584\n",
            "epoch 2, train loss=1.232705, train acc=0.500000, val loss=0.922560, val acc=0.841584\n",
            "epoch 3, train loss=1.239100, train acc=0.500000, val loss=0.897946, val acc=0.841584\n",
            "epoch 4, train loss=1.229948, train acc=0.500000, val loss=0.883629, val acc=0.841584\n",
            "epoch 5, train loss=1.234998, train acc=0.500000, val loss=0.882942, val acc=0.841584\n",
            "epoch 6, train loss=1.246738, train acc=0.500000, val loss=0.895163, val acc=0.841584\n",
            "epoch 7, train loss=1.228634, train acc=0.500000, val loss=0.896409, val acc=0.841584\n",
            "epoch 8, train loss=1.220427, train acc=0.500000, val loss=0.885063, val acc=0.841584\n",
            "epoch 9, train loss=1.222285, train acc=0.500000, val loss=0.883988, val acc=0.841584\n",
            "epoch 10, train loss=1.232621, train acc=0.500000, val loss=0.894219, val acc=0.841584\n",
            "epoch 11, train loss=1.215565, train acc=0.500000, val loss=0.896195, val acc=0.841584\n",
            "epoch 12, train loss=1.220531, train acc=0.500000, val loss=0.875376, val acc=0.841584\n",
            "epoch 13, train loss=1.216438, train acc=0.500000, val loss=0.881742, val acc=0.841584\n",
            "epoch 14, train loss=1.229590, train acc=0.500000, val loss=0.891542, val acc=0.841584\n",
            "epoch 15, train loss=1.203797, train acc=0.500000, val loss=0.903867, val acc=0.841584\n",
            "epoch 16, train loss=1.222373, train acc=0.500000, val loss=0.884395, val acc=0.841584\n",
            "epoch 17, train loss=1.214484, train acc=0.500000, val loss=0.883421, val acc=0.841584\n",
            "epoch 18, train loss=1.209769, train acc=0.500000, val loss=0.894028, val acc=0.841584\n",
            "epoch 19, train loss=1.203787, train acc=0.500000, val loss=0.893680, val acc=0.841584\n",
            "epoch 20, train loss=1.208807, train acc=0.501247, val loss=0.887983, val acc=0.841584\n",
            "epoch 21, train loss=1.192106, train acc=0.501247, val loss=0.903866, val acc=0.841584\n",
            "epoch 22, train loss=1.204555, train acc=0.500000, val loss=0.871367, val acc=0.841584\n",
            "epoch 23, train loss=1.195710, train acc=0.500000, val loss=0.890581, val acc=0.836634\n",
            "epoch 24, train loss=1.195076, train acc=0.500000, val loss=0.895196, val acc=0.836634\n",
            "epoch 25, train loss=1.189662, train acc=0.500000, val loss=0.879665, val acc=0.836634\n",
            "epoch 26, train loss=1.177934, train acc=0.501247, val loss=0.891973, val acc=0.836634\n",
            "epoch 27, train loss=1.175699, train acc=0.501247, val loss=0.890506, val acc=0.836634\n",
            "epoch 28, train loss=1.173726, train acc=0.500000, val loss=0.898073, val acc=0.836634\n",
            "epoch 29, train loss=1.200913, train acc=0.500000, val loss=0.886879, val acc=0.836634\n",
            "epoch 30, train loss=1.180561, train acc=0.502494, val loss=0.903412, val acc=0.836634\n",
            "epoch 31, train loss=1.187607, train acc=0.503741, val loss=0.894588, val acc=0.836634\n",
            "epoch 32, train loss=1.155102, train acc=0.506234, val loss=0.889807, val acc=0.836634\n",
            "epoch 33, train loss=1.172904, train acc=0.504988, val loss=0.886231, val acc=0.836634\n",
            "epoch 34, train loss=1.163321, train acc=0.507481, val loss=0.916787, val acc=0.831683\n",
            "epoch 35, train loss=1.157106, train acc=0.502494, val loss=0.896208, val acc=0.836634\n",
            "epoch 36, train loss=1.171093, train acc=0.504988, val loss=0.895795, val acc=0.831683\n",
            "epoch 37, train loss=1.165686, train acc=0.506234, val loss=0.902829, val acc=0.831683\n",
            "epoch 38, train loss=1.161938, train acc=0.508728, val loss=0.904092, val acc=0.831683\n",
            "epoch 39, train loss=1.157031, train acc=0.506234, val loss=0.907561, val acc=0.831683\n",
            "epoch 40, train loss=1.165315, train acc=0.507481, val loss=0.910849, val acc=0.831683\n",
            "epoch 41, train loss=1.147852, train acc=0.512469, val loss=0.885473, val acc=0.831683\n",
            "epoch 42, train loss=1.148738, train acc=0.509975, val loss=0.900808, val acc=0.831683\n",
            "epoch 43, train loss=1.141968, train acc=0.512469, val loss=0.894664, val acc=0.831683\n",
            "epoch 44, train loss=1.147077, train acc=0.509975, val loss=0.903361, val acc=0.831683\n",
            "epoch 45, train loss=1.132538, train acc=0.516209, val loss=0.906839, val acc=0.831683\n",
            "epoch 46, train loss=1.134141, train acc=0.511222, val loss=0.909552, val acc=0.831683\n",
            "epoch 47, train loss=1.136724, train acc=0.518703, val loss=0.908551, val acc=0.831683\n",
            "epoch 48, train loss=1.151818, train acc=0.516209, val loss=0.908383, val acc=0.831683\n",
            "epoch 49, train loss=1.135895, train acc=0.519950, val loss=0.909793, val acc=0.836634\n",
            "epoch 50, train loss=1.129770, train acc=0.516209, val loss=0.917464, val acc=0.831683\n",
            "epoch 51, train loss=1.116486, train acc=0.517456, val loss=0.907354, val acc=0.831683\n",
            "epoch 52, train loss=1.123560, train acc=0.521197, val loss=0.910088, val acc=0.831683\n",
            "epoch 53, train loss=1.118609, train acc=0.518703, val loss=0.901839, val acc=0.831683\n",
            "epoch 54, train loss=1.107666, train acc=0.516209, val loss=0.913851, val acc=0.826733\n",
            "epoch 55, train loss=1.112345, train acc=0.524938, val loss=0.903822, val acc=0.831683\n",
            "epoch 56, train loss=1.128638, train acc=0.517456, val loss=0.918199, val acc=0.821782\n",
            "epoch 57, train loss=1.107015, train acc=0.528678, val loss=0.900905, val acc=0.821782\n",
            "epoch 58, train loss=1.125269, train acc=0.523691, val loss=0.909905, val acc=0.821782\n",
            "epoch 59, train loss=1.110278, train acc=0.536160, val loss=0.934928, val acc=0.816832\n",
            "epoch 60, train loss=1.092806, train acc=0.526185, val loss=0.916134, val acc=0.816832\n",
            "epoch 61, train loss=1.107642, train acc=0.524938, val loss=0.918405, val acc=0.816832\n",
            "epoch 62, train loss=1.101012, train acc=0.528678, val loss=0.940889, val acc=0.816832\n",
            "epoch 63, train loss=1.099966, train acc=0.533666, val loss=0.931220, val acc=0.816832\n",
            "epoch 64, train loss=1.089356, train acc=0.538653, val loss=0.930544, val acc=0.816832\n",
            "epoch 65, train loss=1.083042, train acc=0.533666, val loss=0.933672, val acc=0.811881\n",
            "epoch 66, train loss=1.093662, train acc=0.531172, val loss=0.921148, val acc=0.816832\n",
            "epoch 67, train loss=1.087177, train acc=0.536160, val loss=0.917997, val acc=0.816832\n",
            "epoch 68, train loss=1.091773, train acc=0.544888, val loss=0.931324, val acc=0.816832\n",
            "epoch 69, train loss=1.067963, train acc=0.547382, val loss=0.922536, val acc=0.816832\n",
            "epoch 70, train loss=1.070009, train acc=0.537406, val loss=0.920331, val acc=0.816832\n",
            "epoch 71, train loss=1.066101, train acc=0.544888, val loss=0.911276, val acc=0.816832\n",
            "epoch 72, train loss=1.057946, train acc=0.552369, val loss=0.920446, val acc=0.816832\n",
            "epoch 73, train loss=1.066826, train acc=0.536160, val loss=0.921034, val acc=0.816832\n",
            "epoch 74, train loss=1.071087, train acc=0.541147, val loss=0.919600, val acc=0.811881\n",
            "epoch 75, train loss=1.060923, train acc=0.564838, val loss=0.926938, val acc=0.806931\n",
            "epoch 76, train loss=1.066307, train acc=0.557357, val loss=0.915127, val acc=0.816832\n",
            "epoch 77, train loss=1.071140, train acc=0.554863, val loss=0.935410, val acc=0.811881\n",
            "epoch 78, train loss=1.065448, train acc=0.549875, val loss=0.927511, val acc=0.806931\n",
            "epoch 79, train loss=1.051573, train acc=0.554863, val loss=0.937984, val acc=0.801980\n",
            "epoch 80, train loss=1.056465, train acc=0.558603, val loss=0.923092, val acc=0.811881\n",
            "epoch 81, train loss=1.043580, train acc=0.549875, val loss=0.935360, val acc=0.811881\n",
            "epoch 82, train loss=1.050717, train acc=0.554863, val loss=0.932516, val acc=0.806931\n",
            "epoch 83, train loss=1.044627, train acc=0.562344, val loss=0.924960, val acc=0.806931\n",
            "epoch 84, train loss=1.055116, train acc=0.553616, val loss=0.933198, val acc=0.806931\n",
            "epoch 85, train loss=1.028834, train acc=0.567332, val loss=0.928808, val acc=0.806931\n",
            "epoch 86, train loss=1.029991, train acc=0.558603, val loss=0.924700, val acc=0.806931\n",
            "epoch 87, train loss=1.024942, train acc=0.567332, val loss=0.927461, val acc=0.806931\n",
            "epoch 88, train loss=1.023534, train acc=0.563591, val loss=0.940588, val acc=0.801980\n",
            "epoch 89, train loss=1.036430, train acc=0.562344, val loss=0.937095, val acc=0.801980\n",
            "epoch 90, train loss=1.018104, train acc=0.576060, val loss=0.937097, val acc=0.801980\n",
            "epoch 91, train loss=1.017956, train acc=0.568579, val loss=0.971812, val acc=0.787129\n",
            "epoch 92, train loss=1.019469, train acc=0.566085, val loss=0.959733, val acc=0.787129\n",
            "epoch 93, train loss=1.024458, train acc=0.562344, val loss=0.939942, val acc=0.792079\n",
            "epoch 94, train loss=1.011483, train acc=0.576060, val loss=0.944443, val acc=0.792079\n",
            "epoch 95, train loss=1.017936, train acc=0.576060, val loss=0.949867, val acc=0.787129\n",
            "epoch 96, train loss=1.004424, train acc=0.582294, val loss=0.953967, val acc=0.787129\n",
            "epoch 97, train loss=1.002077, train acc=0.591022, val loss=0.955944, val acc=0.792079\n",
            "epoch 98, train loss=1.002804, train acc=0.586035, val loss=0.932418, val acc=0.792079\n",
            "epoch 99, train loss=0.992225, train acc=0.588529, val loss=0.934455, val acc=0.792079\n"
          ]
        }
      ]
    },
    {
      "cell_type": "code",
      "source": [
        "%matplotlib inline\n",
        "NUM_EPOCHS=hyperparams['num_epochs']\n",
        "plt.plot(range(0,len(train_losses)), train_losses, 'g', label='Training loss')\n",
        "plt.plot(range(0,len(train_losses)), val_losses, 'b', label='Validation loss')\n",
        "plt.title('Training and Validation loss')\n",
        "plt.xlabel('Epochs')\n",
        "plt.ylabel('Loss')\n",
        "plt.legend()\n",
        "plt.show()"
      ],
      "metadata": {
        "id": "uav3zZew-EYC",
        "colab": {
          "base_uri": "https://localhost:8080/",
          "height": 295
        },
        "outputId": "cc7d1f03-9f24-4454-acc0-ab50908e778e"
      },
      "execution_count": 65,
      "outputs": [
        {
          "output_type": "display_data",
          "data": {
            "text/plain": [
              "<Figure size 432x288 with 1 Axes>"
            ],
            "image/png": "[encoded data removed]"
          },
          "metadata": {
            "needs_background": "light"
          }
        }
      ]
    },
    {
      "cell_type": "code",
      "source": [
        "plt.plot(range(0,len(train_accuracies)), train_accuracies, 'g', label='Training accuracy')\n",
        "plt.plot(range(0,len(train_accuracies)), val_accuracies, 'b', label='Validation accuracy')\n",
        "plt.title('Training and Validation accuracies')\n",
        "plt.xlabel('Epochs')\n",
        "plt.ylabel('Accuracy')\n",
        "plt.legend()\n",
        "plt.show()"
      ],
      "metadata": {
        "id": "YwzBiEn0-bqa",
        "colab": {
          "base_uri": "https://localhost:8080/",
          "height": 295
        },
        "outputId": "2a1ae8f7-9fd7-4a06-bf74-04b3e4356634"
      },
      "execution_count": 66,
      "outputs": [
        {
          "output_type": "display_data",
          "data": {
            "text/plain": [
              "<Figure size 432x288 with 1 Axes>"
            ],
            "image/png": "[encoded data removed]"
          },
          "metadata": {
            "needs_background": "light"
          }
        }
      ]
    },
    {
      "cell_type": "code",
      "source": [
        "import seaborn as sns\n",
        "\n",
        "cf_matrix = confusion_matrix(val_labels, val_predictions, labels=[0, 1, 2, 3])\n",
        "\n",
        "ax = sns.heatmap(cf_matrix, annot=True, cmap='Blues', fmt='d')\n",
        "\n",
        "ax.set_title('Confusion Matrix\\n\\n');\n",
        "ax.set_xlabel('\\nPredicted Values')\n",
        "ax.set_ylabel('Actual Values ');\n",
        "\n",
        "## Ticket labels - List must be in alphabetical order\n",
        "ax.xaxis.set_ticklabels([\"happy\", \"sad\", \"angry\", \"others\"])\n",
        "ax.yaxis.set_ticklabels([\"happy\", \"sad\", \"angry\", \"others\"])\n",
        "\n",
        "## Display the visualization of the Confusion Matrix.\n",
        "plt.show()"
      ],
      "metadata": {
        "id": "J_ksrTmDCv2O",
        "colab": {
          "base_uri": "https://localhost:8080/",
          "height": 337
        },
        "outputId": "96ade138-15b3-482d-e4df-242d91de72ce"
      },
      "execution_count": 67,
      "outputs": [
        {
          "output_type": "display_data",
          "data": {
            "text/plain": [
              "<Figure size 432x288 with 2 Axes>"
            ],
            "image/png": "[encoded data removed]"
          },
          "metadata": {
            "needs_background": "light"
          }
        }
      ]
    },
    {
      "cell_type": "code",
      "source": [
        "precision_recall_fscore_support(val_labels, val_predictions, zero_division=0)"
      ],
      "metadata": {
        "colab": {
          "base_uri": "https://localhost:8080/"
        },
        "id": "Tp4CUMgU8I64",
        "outputId": "67617207-e325-4586-a8a8-05fbe02cb582"
      },
      "execution_count": 68,
      "outputs": [
        {
          "output_type": "execute_result",
          "data": {
            "text/plain": [
              "(array([0.        , 0.        , 0.25      , 0.84126984]),\n",
              " array([0.        , 0.        , 0.11111111, 0.93529412]),\n",
              " array([0.        , 0.        , 0.15384615, 0.88579387]),\n",
              " array([ 14,   9,   9, 170]))"
            ]
          },
          "metadata": {},
          "execution_count": 68
        }
      ]
    },
    {
      "cell_type": "markdown",
      "source": [
        "# LSTM"
      ],
      "metadata": {
        "id": "EyYmPXyd71-P"
      }
    },
    {
      "cell_type": "code",
      "source": [
        "class Vocabulary:\n",
        "    \"\"\"\n",
        "    Vocabularul e un dictionar care ne tine corespondenta dintre cuvinte si\n",
        "    indici unici. Fiecare cuvant are un indice unic => o propozitie devine\n",
        "    o lista de indici.\n",
        "\n",
        "    Reteaua va primii un tensor de dimensiune batch_size x max_timesteps, pe\n",
        "    care il va da stratului de Embedding, care asociaza fiecarui cuvant un\n",
        "    vector. Din stratul Embedding va rezulta un tensor de dimensiune:\n",
        "      batch_size x max_timesteps x embedding_dim\n",
        "    \n",
        "    Daca avem urmatorul batch de 2 tweeturi:\n",
        "    [[fake, news, everywhere, people, !],\n",
        "     [masks, are, great]\n",
        "    ], \n",
        "    atunci inputul nostru va fi un Tensor de dimensiune 2 x 5:\n",
        "      x = torch.LongTensor([\n",
        "        [32, 95, 13, 387, 88],\n",
        "        [971, 18, 31, 0, 0]\n",
        "      ]),\n",
        "    unde 0 este indicele pentru tokenul special [PAD], pe care il appenduim la\n",
        "    secventele mai scurte.\n",
        "    \"\"\"\n",
        "    def __init__(self, word_count: Dict[str, int], min_freq: int):\n",
        "        \"\"\"\n",
        "        word_count: dictionar cuvant -> frecventa cuvant in corpus \n",
        "                    (il puteti calcula acolo unde calculati si list_of_words)\n",
        "        min_freq: frecventa minima de aparitie a unui cuvant; orice e sub\n",
        "          il consideram token 'unknown' si il vom reprezenta cu '[UNK]'.\n",
        "        \"\"\"\n",
        "        # [pad] e un token special pe care il appenduim la secventele mai scurte\n",
        "        # dintr-un mini-batch\n",
        "        # [unk] e un token pentru cuvinte necunoscute (de obicei cuvinte rare, \n",
        "        # cu frecventa mica, pe care o stabilim noi de obicei)\n",
        "        self.word_to_idx = {'[pad]': 0, '[unk]':1}\n",
        "        next_index = 2\n",
        "\n",
        "        # actualizare dictionar \n",
        "        for word, freq in word_count.items():\n",
        "            if freq >= min_freq:\n",
        "              self.word_to_idx[word] = next_index\n",
        "              next_index += 1\n",
        "        \n",
        "        # mapare inversa\n",
        "        self.idx_to_char = {idx: word for (word, idx) in self.word_to_idx.items()}\n",
        "   \n",
        "    def size(self):\n",
        "        return len(self.word_to_idx)\n",
        "      \n",
        "    def __str__(self):\n",
        "        return str(self.word_to_idx)"
      ],
      "metadata": {
        "id": "mgZFPnAePXqx"
      },
      "execution_count": 69,
      "outputs": []
    },
    {
      "cell_type": "code",
      "source": [
        "print(word_count.items())\n",
        "vocab = Vocabulary(word_count=word_count, min_freq=1)"
      ],
      "metadata": {
        "id": "gZwZf-FdbeQ-",
        "colab": {
          "base_uri": "https://localhost:8080/"
        },
        "outputId": "99c58f34-66b7-4532-8712-f5c62bd9620e"
      },
      "execution_count": 70,
      "outputs": [
        {
          "output_type": "stream",
          "name": "stdout",
          "text": [
            "dict_items([(\"don't\", 80), ('worry', 3), (\"i'm\", 64), ('girl', 9), ('him', 11), ('how', 91), ('do', 89), ('i', 790), ('know', 83), ('if', 29), ('you', 572), ('are', 153), (\"what's\", 5), ('ur', 23), ('name', 12), ('?', 389), ('when', 15), ('did', 21), ('saw', 4), ('many', 11), ('times', 6), ('think', 20), ('-', 7), ('_', 2), ('no', 63), ('.', 284), ('never', 16), ('by', 18), ('google', 4), ('chrome', 1), ('where', 24), ('live', 5), ('u', 179), ('ridiculous', 2), ('might', 3), ('be', 47), ('but', 73), ('am', 102), ('telling', 2), ('the', 121), ('truth', 4), ('little', 5), ('disgusting', 1), ('whore', 1), ('just', 53), ('for', 62), ('time', 17), ('pass', 2), ('it', 129), ('4', 5), ('a', 134), ('living', 4), ('then', 34), ('maybe', 4), ('dog', 2), ('person', 8), ('youre', 2), ('so', 123), ('rude', 12), ('what', 177), ('why', 70), ('whassup', 1), ('nothing', 26), ('much', 20), ('sitting', 1), ('sipping', 1), ('and', 77), ('watching', 2), ('to', 212), ('abt', 3), ('on', 37), ('ok', 60), ('im', 17), ('back', 11), ('!', 164), (',', 185), ('really', 36), ('y', 2), ('saying', 6), ('can', 54), ('hear', 3), ('bay', 2), ('in', 78), ('kissing', 3), ('heart', 23), ('love', 40), ('hate', 45), ('my', 114), ('boyfriend', 9), ('got', 14), ('yes', 97), ('will', 46), ('night', 6), ('alright', 2), ('keep', 8), ('me', 231), ('loop', 1), ('not', 122), ('giving', 3), ('whatsapp', 2), ('sure', 16), ('go', 34), ('ahead', 1), ('thanks', 17), ('once', 5), ('again', 13), ('too', 34), ('bad', 31), (\"that's\", 14), ('kind', 7), ('of', 123), ('have', 79), ('get', 38), ('made', 8), ('an', 13), ('option', 1), ('money', 3), ('lots', 2), ('smiling', 15), ('face', 158), ('with', 143), ('heart-eyes', 2), ('eyes', 17), ('need', 14), ('tailored', 1), ('grin', 19), ('beaming', 7), ('left', 6), ('ne', 1), ('over', 7), ('out', 21), ('someone', 9), ('else', 8), ('*', 7), ('lost', 14), ('guys', 2), ('want', 33), ('loose', 2), ('always', 13), ('talk', 43), ('any', 13), ('more', 22), ('lying', 4), ('that', 73), (\"you're\", 22), ('ab', 2), ('bys', 1), ('sob', 15), ('loudly', 12), ('crying', 23), ('creator', 2), ('is', 127), ('very', 34), ('only', 17), ('your', 87), ('brain', 3), ('expressionless', 2), ('ehat', 1), ('hehe', 3), ('haha', 33), ('like', 66), (':', 11), ('giggle', 1), ('wink', 7), ('or', 102), ('smirk', 7), ('dance', 2), ('cat', 24), ('joy', 135), ('tears', 48), ('legs', 2), ('guess', 9), ('even', 12), ('about', 57), ('yesterday', 4), ('69', 1), ('coz', 8), ('dont', 22), ('wat', 3), ('miss', 10), ('sometimes', 5), ('one', 22), (\"can't\", 16), ('express', 1), ('same', 8), ('cry', 8), ('yeah', 31), (\"i'll\", 21), ('ask', 14), ('around', 3), ('which', 16), ('favourite', 1), ('movie', 5), ('tell', 41), ('something', 23), ('waiting', 6), ('sad', 49), ('today', 12), ('send', 19), ('email', 2), ('write', 3), ('all', 30), ('yours', 6), ('filling', 1), ('still', 9), ('matters', 2), ('clever', 1), ('matter', 2), ('yourself', 8), ('please', 28), ('handwrite', 1), ('sent', 6), ('mail', 1), ('now', 47), ('first', 8), ('address', 1), ('received', 1), ('than', 9), ('young', 2), ('lady', 1), ('funny', 20), (\"i've\", 8), ('been', 15), ('told', 9), ('india', 6), ('thoughts', 2), ('exactly', 4), ('machine', 2), ('right', 17), ('didnt', 2), ('ans', 1), ('question', 5), ('thank', 16), ('warm', 1), ('ning', 1), ('anyways', 3), ('good', 49), ('morning', 7), (\"how's\", 5), ('life', 16), ('at', 26), ('end', 3), ('this', 34), ('evening', 1), ('fool', 2), ('dumb', 6), ('dare', 1), ('fuck', 14), ('open', 8), ('panty', 1), ('specific', 2), ('propose', 1), ('crazy', 3), ('explain', 5), ('goa', 1), ('city', 1), ('mean', 20), ('state', 3), ('there', 15), ('was', 33), ('usually', 2), ('thumbs', 4), ('bored', 4), ('happy', 78), ('smiley', 50), ('ofcourse', 4), ('said', 17), ('neede', 1), ('pic', 6), ('after', 9), ('battle', 2), ('laughing', 14), ('big', 11), ('laugh', 13), ('glasses', 9), (\"let's\", 5), ('start', 4), (\"friend's\", 1), ('ya', 6), ('friend', 20), ('nice', 16), ('friends', 12), ('she', 9), ('ignoring', 1), ('ignore', 1), ('almost', 2), ('hij', 1), ('top', 1), ('being', 12), ('school', 1), ('let', 7), ('plus', 7), ('positive', 1), ('approach', 2), ('problem', 8), ('glad', 3), ('help', 10), ('grinning', 10), ('hand', 4), (\"didn't\", 11), ('ashita', 1), ('see', 32), ('answer', 5), (\"it's\", 29), ('freezing', 1), ('wif', 1), ('talking', 18), ('gonna', 5), ('later', 4), ('teach', 3), ('student', 1), ('ready', 2), ('online', 1), ('wait', 11), ('chilling', 3), ('part', 5), ('jock', 1), ('super', 4), ('er', 1), ('formulation', 1), ('would', 10), ('tablets', 2), ('from', 17), ('come', 12), ('into', 5), ('picture', 6), ('ticklish', 2), ('mostly', 1), ('feet', 1), ('sorry', 21), ('we', 24), ('creating', 1), ('nation', 1), ('taught', 2), ('ink', 2), ('here', 14), ('listen', 1), ('thing', 11), ('called', 4), ('\"', 26), ('internet', 1), ('bye', 4), ('ah', 5), ('phone', 5), ('cropped', 1), ('slightly', 4), ('haye', 1), ('pure', 1), ('forever', 1), ('dear', 7), ('well', 23), ('expected', 2), ('wrong', 6), ('lol', 14), ('robot', 1), ('some', 14), ('invite', 1), ('coffee', 4), ('taken', 2), ('zombie', 2), ('attack', 1), ('downcast', 1), ('sweat', 4), ('amused', 5), ('wants', 1), ('eat', 5), ('as', 13), ('hit', 1), ('his', 2), ('head', 2), ('kill', 2), ('horns', 1), ('imp', 1), ('ferrari', 1), ('donot', 1), ('say', 22), ('appatasiri', 1), ('high', 2), ('five', 2), ('someday', 2), ('spell', 1), ('correctly', 1), ('endorse', 1), ('skills', 1), ('using', 2), ('autocorrect', 1), ('pouting', 29), ('angry', 39), ('should', 23), ('take', 6), ('up', 33), ('english', 8), ('proficiency', 1), ('classes', 1), ('intuitive', 2), ('software', 1), ('examples', 1), ('behaviors', 1), ('compassionate', 1), ('understanding', 3), ('advice', 1), ('somebody', 3), ('feeling', 17), ('disrupt', 1), ('frown', 24), ('sick', 2), ('week', 2), ('lobar', 1), ('known', 3), ('could', 3), ('body', 1), ('proves', 1), ('fooled', 1), ('makers', 1), ('pudding', 1), ('yer', 2), ('meat', 1), ('round', 3), ('circles', 1), ('done', 5), ('dinner', 7), ('kidding', 4), ('necessary', 1), ('reason', 4), ('ghost', 2), ('them', 6), ('winter', 1), ('coming', 2), ('questions', 2), ('asked', 8), ('most', 4), ('document', 1), ('has', 7), ('details', 3), ('regarding', 1), ('scoring', 1), ('topics', 1), ('each', 3), ('subject', 2), ('siri', 2), ('they', 8), (\"sir's\", 1), ('welcome', 9), ('story', 4), ('also', 15), ('fucked', 3), ('hard', 2), ('happened', 4), ('age', 1), ('irritating', 6), ('shit', 4), ('wasting', 2), ('already', 5), ('trick', 2), ('man', 6), ('unlimited', 1), ('texts', 1), (\"don'tlike\", 1), ('huh', 3), ('damn', 5), ('broken', 7), ('feel', 14), ('breaking', 1), ('million', 1), ('pieces', 1), ('relieved', 1), ('disappointed', 7), ('every', 2), ('shattered', 1), ('sleepy', 2), ('voice', 2), ('call', 12), ('trying', 7), ('arent', 1), ('answering', 1), ('baby', 12), ('computer', 4), ('pretending', 3), ('human', 4), ('type', 4), ('fast', 3), ('lizard', 1), ('doing', 11), ('alternative', 1), ('fact', 2), ('grace', 1), ('steam', 1), ('nose', 2), ('everybody', 1), ('means', 9), ('make', 19), ('sense', 8), ('non', 3), ('food', 10), ('because', 22), ('novel', 1), ('bother', 1), ('reading', 3), ('choose', 1), ('purple', 1), ('blue', 1), ('three', 1), ('best', 11), ('colors', 1), ('hair', 3), ('seem', 2), ('outside', 1), ('inside', 1), ('read', 4), ('books', 5), ('rich', 3), ('people', 11), ('iam', 3), ('poor', 5), ('frowning', 6), ('mouth', 6), ('bedroom', 1), ('wry', 1), ('smile', 12), ('prove', 1), ('lot', 6), ('pissed', 2), ('finding', 2), ('work', 6), ('day', 16), ('suggest', 3), ('clear', 2), ('another', 4), ('hello', 8), ('photo', 3), ('place', 2), ('pacific', 1), ('tomorrow', 6), ('queens', 1), ('way', 8), ('pachalam', 1), ('pain', 4), ('shut', 8), ('stop', 8), ('texting', 1), ('stupid', 17), ('mine', 2), (\"'\", 9), ('creators', 1), ('advertise', 1), ('trustworthy', 2), ('sadly', 3), ('enough', 6), ('claim', 1), ('show', 13), ('delete', 2), ('conversation', 6), ('deleting', 1), ('noo', 5), ('sees', 1), ('making', 5), ('cool', 19), ('lonely', 5), ('ply', 2), ('darling', 7), ('sending', 2), ('profiles', 1), ('waist', 1), ('size', 1), ('firstly', 1), ('pussy', 3), ('orignal', 1), ('thise', 1), ('esquire', 1), ('enjoying', 5), ('interesting', 1), ('views', 1), ('careful', 1), ('dialogue', 1), ('may', 5), ('free', 5), ('difficult', 1), ('handle', 1), ('while', 5), ('yep', 4), ('okay', 14), ('find', 9), ('words', 2), ('hurt', 8), (\"isn't\", 4), ('look', 6), ('#', 1), ('play', 7), ('liking', 1), ('signaling', 1), ('climb', 1), ('friendzone', 2), ('oh', 23), ('whole', 2), ('yah', 1), ('missing', 3), ('who', 23), ('maths', 2), ('boring', 6), ('screaming', 2), ('fear', 2), ('scream', 2), ('remember', 3), ('information', 3), (\"wouldn't\", 1), ('uploading', 1), ('peoples', 1), ('fine', 15), ('job', 6), ('company', 1), ('collate', 1), ('bat', 2), ('2', 9), ('balls', 1), ('ice', 1), ('cold', 2), ('getting', 6), ('off', 8), ('girlfriend', 13), ('lets', 5), ('fun', 15), ('lame', 1), ('wow', 12), ('he', 10), ('doesnt', 1), ('reply', 9), ('ill', 3), ('dying', 1), ('hearts', 3), ('break', 6), ('grimacing', 1), ('broke', 7), ('its', 14), ('shoping', 1), ('makes', 9), ('stay', 4), ('kiss', 3), ('decent', 1), (\"i'd\", 4), ('learn', 5), ('spelling', 1), ('relationship', 5), ('better', 10), ('breakup', 2), ('meanie', 1), ('hurting', 2), ('<', 2), ('/', 3), ('3', 8), ('arrogant', 1), ('tired', 2), ('aha', 1), ('asking', 5), ('great', 7), ('gym', 2), ('started', 6), ('studies', 2), ('things', 7), ('exam', 6), ('tty', 1), ('telugu', 1), ('brahmanandam', 1), ('scenes', 1), ('added', 1), ('yaa', 2), ('those', 2), ('talia', 1), ('robb', 1), ('pick', 4), ('anything', 5), ('specifics', 1), ('tamil', 1), ('cuz', 3), ('side', 3), ('walk', 2), ('number', 11), ('largest', 1), ('prime', 1), ('13', 1), ('3179', 1), ('97', 1), ('these', 2), ('numbers', 2), ('relax', 1), ('sticker', 1), ('emoji', 2), ('new', 8), ('addiction', 1), ('looks', 1), ('ficus', 1), ('humor', 2), ('paid', 1), ('happen', 3), ('yea', 5), ('aww', 3), ('ditched', 2), ('pal', 3), ('ai', 7), ('smarter', 1), ('common', 2), ('both', 4), ('perfectly', 2), ('politics', 1), ('dominos', 1), ('pizza', 5), ('legit', 1), (\"there's\", 1), ('hut', 2), ('use', 4), ('cringe', 2), ('neither', 3), ('parents', 1), ('nor', 3), ('brother', 1), ('alone', 14), ('cook', 1), ('for.myself', 1), ('us', 4), ('millet', 1), ('hospital', 1), (\"mum's\", 1), ('fall', 1), ('cant', 4), ('long', 6), ('somthing', 1), ('coupon', 2), ('mute', 1), ('hahaha', 5), ('persevere', 1), ('buy', 1), ('stick', 1), ('benefit', 1), ('upgrading', 1), ('offer', 2), ('8', 4), ('mind', 6), ('nima', 1), ('joke', 3), ('hey', 11), ('belong', 2), ('nope', 6), ('seen', 4), ('buss', 2), ('hi', 10), ('yet', 3), ('fyi', 1), ('share', 3), ('correct', 1), ('world', 4), ('fair', 1), ('machen', 1), ('wish', 3), ('hangout', 1), ('going', 11), ('home', 10), ('. .', 2), ('meet', 7), ('smiles', 1), ('anyway', 2), ('nop', 1), ('oil', 2), ('100', 2), ('%', 2), ('active', 2), ('sleep', 14), ('satisfied', 4), ('act', 1), ('knew', 1), ('though', 7), ('month', 5), ('jus', 1), ('don', 1), ('give', 16), ('soon', 4), ('try', 13), ('wana', 2), (\"wasn't\", 3), ('impress', 1), (')', 4), ('lovely', 2), (\"we've\", 1), ('room', 1), ('ena', 1), ('hia', 2), ('test', 1), ('header', 1), ('hobby', 2), ('raisins', 1), ('recently', 2), ('hav', 1), ('chocolate', 3), ('stressed', 1), ('yeas', 2), ('had', 6), (\"you've\", 2), ('yup', 6), ('annoying', 11), ('adventure', 1), ('adventurous', 1), ('water', 2), ('true', 6), ('myself', 4), ('speak', 6), ('everyday', 1), ('replying', 1), ('playing', 1), ('cheated', 3), ('bitch', 6), ('slap', 1), ('monkey', 1), ('thats', 4), ('insult', 1), ('fired', 2), ('interview', 1), ('dead', 1), ('problems', 1), ('changed', 1), ('tongue', 11), ('sticking', 7), ('cheeky', 7), ('playful', 7), ('blowing', 7), ('raspberry', 7), ('dismiss', 1), ('close', 1), ('request', 2), ('fake', 2), ('wanted', 2), ('ever', 4), ('heard', 3), ('janakpuri', 1), ('book', 1), ('uber', 1), ('ride', 2), ('allowed', 1), ('wife', 3), ('chatting', 3), ('screwed', 1), ('prefer', 2), ('orange', 1), ('flavoured', 1), ('chocolates', 1), ('chat', 5), ('cheer', 1), ('monday', 1), ('challenge', 1), ('accepted', 2), ('expecting', 1), ('loved', 5), ('yay', 7), ('xu', 1), ('cannot', 4), ('closet', 1), ('game', 6), ('sims', 1), ('&', 3), ('jardinains', 1), ('gud', 3), ('games', 6), ('code', 3), ('socially', 2), ('publicity', 1), (\"c'mon\", 1), ('social', 1), ('media', 1), ('networks', 3), (';-)', 1), ('pets', 1), ('switch', 1), ('topic', 5), ('pet', 1), ('tips', 3), ('impressing', 1), ('girls', 2), ('straight', 1), ('forward', 1), ('cloth', 1), ('showed', 1), ('suffering', 2), ('fever', 1), (\"cupid's\", 1), ('arrow', 1), ('reach', 1), ('gives', 1), ('patient', 1), ('luck', 1), ('song', 5), ('change', 3), ('current', 2), ('model', 1), ('third', 1), ('gen', 1), ('fourth', 1), ('japanese', 1), ('ratified', 1), ('phrases', 1), ('her', 5), ('years', 1), (\"she's\", 1), ('quite', 1), ('happening', 1), ('weird', 2), ('word', 2), ('enjoy', 1), ('attend', 2), ('re', 3), ('least', 2), ('uh', 5), ('village', 1), ('bit', 3), ('course', 6), ('lift', 1), ('tryin', 1), ('knows', 2), ('liek', 1), ('lie', 1), ('few', 3), ('hearing', 1), ('na', 3), ('sweeter', 1), ('fucking', 2), ('used', 3), ('low', 5), ('kool', 1), ('bike', 1), ('ark', 2), ('joyful', 1), ('born', 2), ('smart', 1), ('babies', 1), ('nobody', 2), ('horse', 1), ('hawk', 1), ('mutual', 3), ('tickling', 1), ('weekend', 2), ('sweet', 5), ('ra', 3), ('working', 4), ('sell', 1), ('everything', 5), (\"haven't\", 4), ('two', 2), ('weeks', 1), ('video', 4), ('hold', 1), ('app', 1), ('duty', 1), ('without', 1), ('stuff', 2), ('booma', 1), ('language', 6), ('depends', 2), ('achieve', 1), ('learning', 1), ('special', 1), ('important', 2), ('space', 1), ('husband', 2), ('spoken', 1), ('married', 3), ('probably', 2), ('awesome', 6), ('blush', 5), ('avoid', 1), ('loves', 1), ('rubbish', 1), ('indeed', 4), ('romantic', 1), ('wellcome', 1), ('safely', 1), ('sex', 4), ('period', 1), ('missed', 6), ('empress', 1), ('actually', 3), ('meant', 3), ('leave', 9), ('wot', 1), ('holy', 1), ('big.just', 1), ('spending', 1), ('moment', 2), ('doin', 2), ('believe', 5), ('our', 8), ('future', 2), ('together', 1), ('carry', 2), ('frustrated', 1), ('understand', 12), ('sacrifice', 1), ('bro', 3), ('confused', 3), ('justin', 2), ('barber', 1), (\"he's\", 2), ('apologize', 2), ('begin', 1), ('discover', 1), ('offend', 1), ('answers', 2), ('late', 3), ('loll', 2), ('male', 2), ('female', 2), ('wide', 1), ('10', 3), ('splooge', 1), ('year', 3), ('thne', 1), ('thought', 5), ('protect', 1), ('crush', 1), ('uhm', 1), ('assume', 1), ('such', 6), ('nights', 2), ('duh', 2), ('microsoft', 5), ('database', 1), ('wifi', 1), ('aircraft', 1), ('access', 1), ('net', 1), ('nam', 1), ('tall', 1), ('fed', 2), ('drinking', 1), (\"u're\", 1), ('apparently', 1), ('son', 1), ('series', 3), ('westward', 1), ('orphan', 1), ('black', 2), ('kinda', 3), ('opinion', 3), ('reasons', 4), ('were', 3), ('disheartened', 1), ('hope', 6), ('happens', 1), ('count', 1), ('favorite', 2), ('meals', 1), ('fried', 2), ('rice', 1), ('move', 1), ('bummer', 2), ('thinking', 1), ('before', 3), ('having', 4), ('kids', 2), ('forget', 3), ('strong', 1), ('soo', 2), ('easy', 1), ('dna', 4), ('engineering', 1), ('askin', 1), ('skeptical', 4), ('annoyed', 4), ('undecided', 4), ('uneasy', 4), ('hesitant', 4), ('hugs', 2), ('adore', 1), ('hugged', 1), ('lately', 1), ('nuh', 1), ('laze', 1), ('except', 1), ('1', 5), ('anu', 1), ('teddy', 3), ('judge', 3), ('warned', 1), ('judging', 2), ('hell', 3), ('designer', 1), ('difference', 2), ('between', 1), ('cappuccino', 1), ('elaborate', 1), ('intended', 2), ('recipient', 2), ('assist', 1), ('awaiting', 1), ('assistance', 1), ('further', 1), ('contact', 3), ('fav', 3), ('team', 3), ('whom', 2), ('liked', 1), ('wanna', 9), ('bluntly', 1), ('stopping', 2), ('deal', 1), ('alive', 3), ('lucky', 1), ('needed', 2), ('comment', 2), ('film', 1), ('collection', 1), ('sign', 1), ('dubai.and', 1), ('next', 3), ('dubai', 2), ('planning', 2), ('color', 1), ('radium', 1), ('colour', 1), ('lier', 1), ('spanish', 1), ('italian', 1), ('ugh', 1), (':-/', 1), ('batman', 1), ('exams', 1), ('hindi', 1), ('whats', 3), ('full', 1), ('seconds', 1), ('till', 2), ('harry', 2), ('potter', 3), ('twilight', 1), ('hands', 1), ('down', 5), ('moody', 1), ('smack', 2), ('(', 2), ('^', 5), ('father', 4), ('chariot', 1), ('revealed', 1), ('reveal', 1), ('southy', 1), ('south', 1), ('feelings', 2), ('deserve', 1), ('attention', 1), ('piss', 1), ('college', 4), ('interested', 2), ('anymore', 1), ('oops', 2), ('grand', 1), ('masti', 1), ('trolling', 2), ('fractured', 1), ('leg', 4), ('fracture', 1), ('study', 3), ('president', 1), ('other', 4), ('half', 2), ('worked', 1), ('works', 1), ('everyone', 3), ('properly', 1), ('family', 2), ('nah', 2), ('ego', 2), ('talks', 1), ('subconscious', 1), ('levels', 1), ('whatever', 4), ('cute', 5), ('grown', 1), ('ups', 1), ('hour', 1), ('dunno', 1), ('rolling', 3), ('floor', 2), ('efforts', 1), ('invisible', 1), ('personal', 1), ('cheating', 1), ('breaks', 1), ('chicks', 1), ('chicken', 5), ('moneyyou', 1), ('zipper', 2), ('zipper-mouth', 2), ('silly', 1), ('date', 4), ('women', 2), ('less', 3), ('excited', 3), ('teed', 1), ('isnt', 1), ('amazing', 3), ('page', 1), ('speed', 1), ('replies', 1), ('spill', 2), ('rage', 4), ('soso', 1), ('written', 2), ('woke', 1), ('5', 2), ('studying', 2), ('tarun', 1), ('deepak', 1), ('padrone', 1), ('hers', 1), ('expert', 1), ('deeply', 1), ('sucks', 1), ('omae', 1), ('heights', 1), ('emotional', 2), ('support', 2), ('defines', 1), ('differently', 1), ('spend', 1), ('bestest', 1), ('created', 1), ('synthetic', 1), ('biological', 1), ('computer-based', 1), ('tickets', 1), ('does', 6), ('point', 1), (\"doesn't\", 3), ('lead', 1), ('wealth', 1), ('directly', 2), ('philosophical', 1), ('comeback', 1), ('ate', 1), (\"here's\", 3), ('reduce', 1), ('fraction', 1), ('6', 2), ('whaa', 1), ('care', 3), ('hibiki', 1), ('followed', 2), ('stalking', 1), ('train', 1), ('windows', 2), ('95', 1), ('implying', 1), ('pa', 2), ('users', 1), ('linux', 1), ('travelling', 1), ('blocked', 3), ('unreal', 1), ('bot', 5), ('appreciate', 1), ('noticed', 1), ('plan', 1), ('hurry', 1), ('weight', 1), ('fat', 1), ('diet', 1), ('walks', 1), ('mornings', 1), ('eating', 1), ('restless', 1), ('dominates', 1), ('sadness', 2), ('wen', 1), ('tonight', 1), ('looking', 1), ('artificial', 2), ('intelligence', 3), ('modern', 1), ('excitefull', 1), ('robots', 1), ('mistakes', 3), ('profound', 1), ('inteligent', 1), ('annoy', 2), ('clean', 1), ('hangover', 1), ('hangovers', 1), ('bed', 2), ('clearly', 1), ('breakfast', 1), ('favor', 1), ('starting', 1), ('sufferings', 1), ('misery', 1), ('serial', 1), ('comma', 1), ('until', 1), ('wise', 1), (\"won't\", 1), ('teling', 1), ('mee', 2), ('talked', 1), ('since', 2), ('trouble', 1), ('turn', 1), ('rather', 2), ('bend', 1), ('programme', 3), ('certain', 1), ('syntax', 1), ('commands', 1), ('cause', 3), ('last', 2), ('masturbated', 1), ('mistake', 1), ('masturbation', 1), ('quick', 1), ('impressed', 1), ('completely', 1), ('own', 3), ('degree', 1), ('wake', 1), ('combination', 1), (\"life's\", 1), ('condoms', 1), ('recent', 1), ('angel', 1), ('light', 3), ('skin', 2), ('tone', 2), ('check', 1), ('block', 3), ('list', 1), ('sunshine', 1), ('hacked', 1), ('secret', 1), ('anyone', 2), ('beautiful', 5), ('country', 2), ('asap', 1), ('headache', 1), ('news', 1), ('abut', 1), ('normal', 2), ('hahahaha', 1), ('sounds', 2), ('jerk', 1), ('deutsche', 1), ('pathetic', 1), ('awful', 1), ('biryani', 2), ('rid', 1), ('luv', 2), ('failure', 1), ('boots', 1), ('~', 9), ('ay', 2), ('search', 2), ('ruined', 2), ('hung', 1), ('god', 3), ('different', 3), ('languages', 1), ('sigh', 1), ('text', 2), ('file', 1), ('boy', 1), ('situation', 1), ('colleagues', 1), ('occasionally', 1), ('nothin', 1), ('real', 3), ('seems', 1), ('cheater', 1), ('texted', 1), ('months', 1), (\"assassin's\", 1), ('creed', 1), ('revelations', 1), ('battlefield', 1), ('ramone', 1), ('nobility', 1), ('superior', 2), ('former', 1), ('self', 2), ('latter', 1), ('acting', 1), ('marriage', 2), ('eligible', 1), ('marry', 4), ('consider', 1), ('\\\\', 1), ('iphone', 1), ('ru', 1), ('hwa', 1), ('perception', 2), ('github', 1), ('link', 1), ('health', 1), ('earlier', 1), ('days', 2), ('choice', 1), (\"valentine's\", 1), ('neutral', 3), ('create', 1), ('guy', 2), ('ass', 1), ('pour', 1), ('sound', 1), ('augmented', 1), ('mood', 1), ('ash', 1), ('suggestions', 1), ('yummy', 2), ('mad', 2), ('fan', 2), ('badminton', 1), ('ooh', 2), ('heaven', 1), ('biz', 1), ('idiots', 1), ('shopping', 1), ('funniest', 1), ('win', 2), ('creepy', 1), ('accepting', 1), ('serious', 1), ('amends', 1), ('capable', 1), ('dancing', 2), ('kaito', 2), ('zero', 1), ('girlfriends', 1), ('quiet', 1), ('simple', 1), ('o', 1), ('lab', 1), (\"when's\", 1), ('anytime', 1), ('thrones', 1), ('mew', 1), ('piece', 1), ('cake', 1), ('yum', 1), ('savoring', 1), ('style', 1), ('doggy', 1), ('gave', 1), ('rigth', 1), ('finally', 1), ('watch', 2), ('shows', 1), ('movies', 4), ('englishman', 1), ('tat', 1), ('honey', 2), ('ef', 1), ('higher', 1), ('throw', 1), ('daughter', 1), ('scary', 1), ('motivate', 1), ('failed', 1), ('simply', 1), ('superb', 1), ('travel', 1), ('energetic', 1), ('lolly', 2), ('loud', 2), ('sleeping', 2), ('forgot', 2), ('old', 1), ('wont', 1), ('irritated', 1), ('connecting', 1), ('dhruv', 1), ('message', 3), ('mummy', 2), ('cricket', 2), ('hating', 1), ('hipsters', 1), ('saturday', 2), ('clients', 3), ('congratulations', 1), ('rejected', 1), ('mohandas', 1), ('pridecof', 1), ('indian', 1), ('cinema', 1), ('ve', 1), ('cooking', 1), ('hero', 1), ('earning', 1), ('listicle', 1), ('query', 1), ('pay', 1), ('50', 1), ('crore', 1), ('succeed', 1), ('detail', 1), ('fiber', 1), ('near', 1), ('babe', 1), ('faces', 1), ('nonsense', 3), ('brilliant', 1), ('genius', 1), ('hilarious', 1), ('walking', 1), ('wanda', 1), ('tikka', 2), ('convo', 1), ('mines', 1), ('introvert', 1), ('intrested', 1), ('fish', 1), ('fry', 1), ('sambar', 1), ('hoo', 1), ('dude', 1), ('swimming', 1), ('swim', 1), ('loser', 1), ('priority', 1), ('lover', 1), ('flirting', 1), ('level', 1), ('unwillingly', 1), ('drain', 1), ('ample', 1), ('arrange', 1), ('gotta', 1), ('minute', 1), ('episode', 1), (\"you'll\", 1), ('behind', 1), ('lik', 1), ('tandoori', 1), ('chilly', 1), ('fault', 1), ('otherwise', 3), ('. ..', 2), ('post', 1), ('laughed', 1), ('profile', 2), (\"we're\", 2), ('exact', 1), ('figures', 1), ('4201437', 1), ('86', 1), ('likes', 1), ('kinds', 1), ('bore', 1), ('horror', 1), ('mama', 1), ('kushtagi', 1), ('agree', 1), ('insulting', 1), ('programming', 2), ('solve', 3), ('terms', 1), ('generous', 1), ('atleast', 2), ('eye', 3), ('direction', 1), ('speaking', 1), ('driving', 1), ('licence', 2), ('drive', 1), ('international', 1), ('red', 1), ('car', 1), ('oncoming', 1), ('automobile', 1), ('reside', 2), ('leaving', 1), ('despicable', 1), ('designing', 1), ('coding', 1), ('virgin', 1), (\"ain't\", 2), ('opposite', 1), ('dick', 1), ('remove', 2), (';', 1), ('bengali', 1), ('lara', 1), ('outta', 1), ('punjabi', 2), ('mother', 1), ('raja', 1), ('grind', 1), ('ver', 1), ('played', 1), ('hank', 1), ('maria', 1), ('yaar', 1), ('replied', 1), ('la', 1), ('shud', 1), ('aside', 1), ('cartoon', 2), ('worse', 1), ('garage', 1), ('available', 1), ('uk', 1), ('shame', 1), ('pretty', 3), ('average', 1), ('comes', 2), ('jokes', 1), ('arey', 1), ('obviously', 2), ('karena', 1), ('stuck', 2), ('winking', 4), ('disturb', 1), ('idli', 2), ('milk', 1), ('papaya', 1), ('eats', 1), ('business', 2), ('failing', 1), ('possible', 1), ('mini', 1), ('pas', 1), ('hostel', 1), ('ugly', 2), ('party', 2), ('sometime', 2), ('price', 2), ('lenore', 1), ('tab', 1), ('spot', 1), ('gold', 1), ('1152.5', 1), ('inr', 1), ('busy', 1), ('worried', 1), ('0', 1), ('afternoon', 1), ('lunch', 1), ('limited', 1), ('naps', 2), ('hours', 2), ('salam', 1), ('band', 1), ('explanation', 1), ('difficulty', 1), ('talkin', 1), ('ze', 1), ('innocent', 1), ('bitter', 1), ('ignorant', 1), ('joys', 1), ('single', 1), ('past', 1), ('pensive', 1), ('motherfucking', 1), ('king', 1), ('double', 1), ('calculus', 2), ('especially', 2), ('ap', 1), ('original', 2), ('bollywood', 2), ('lengthy', 1), ('limit', 1), ('fighting', 1), (\"yesterday's\", 1), ('match', 1), ('algorithm', 1), ('maintaining', 1), ('increasing', 1), ('ship', 1), (\"how'd\", 1), (\"we'll\", 2), ('dint', 1), ('selected', 1), ('actor', 1), ('trusted', 1), ('beat', 1), ('>', 3), ('muffin', 1), ('fist', 1), ('suit', 1), ('beach', 1), ('won', 1), ('awesomest', 1), ('tinder', 1), ('able', 1), ('testing', 1), ('taking', 1), ('applications', 1), ('tap', 1), ('view', 1), ('unblocked', 1), ('ex', 1), ('excuse', 1), ('dating', 1), ('perfect', 1), ('vibrant', 1), ('unless', 1), ('extremely', 1), ('incorrect', 1), ('ohio', 1), ('itt', 1), ('must', 2), ('spam', 1), ('weary', 1), ('slams', 1), ('plans', 1), ('understood', 1), ('traffic', 1), ('police', 1), ('catches', 1), ('suddenly', 1), ('sweetly', 1), ('weirdly', 1), ('eid', 1), ('awkward', 1), ('ohh.okk', 1), ('favorable', 1), ('others', 1), ('listening', 1), ('predict', 1), ('due', 1), ('randomness', 1), ('plese', 1), ('keypad', 1), ('squinting', 1), ('madam', 1), ('garde', 1), ('charge', 2), ('selva', 1), ('sister', 1), ('buddy', 2), ('complain', 1), ('onwards', 1), ('sarcastic', 1), ('system', 1), ('potatoes', 1), ('potato', 1), ('lolling', 1), ('sec', 2), ('stopped', 1), ('ago', 1), ('automate', 1), ('instead', 1), ('depressed', 1), ('terrible', 2), ('sneezing', 1), ('river', 1), ('audio', 1), ('havent', 1), ('bop', 1), ('eminem', 1), ('concert', 1), ('responding', 1), ('longer', 1), ('dream', 1)])\n"
          ]
        }
      ]
    },
    {
      "cell_type": "code",
      "source": [
        "print(getattr(vocab, \"word_to_idx\"))"
      ],
      "metadata": {
        "id": "iqLszj4lNPZe",
        "colab": {
          "base_uri": "https://localhost:8080/"
        },
        "outputId": "d8dc2304-4a94-4060-a1b5-5be0f8ed6ebb"
      },
      "execution_count": 71,
      "outputs": [
        {
          "output_type": "stream",
          "name": "stdout",
          "text": [
            "{'[pad]': 0, '[unk]': 1, \"don't\": 2, 'worry': 3, \"i'm\": 4, 'girl': 5, 'him': 6, 'how': 7, 'do': 8, 'i': 9, 'know': 10, 'if': 11, 'you': 12, 'are': 13, \"what's\": 14, 'ur': 15, 'name': 16, '?': 17, 'when': 18, 'did': 19, 'saw': 20, 'many': 21, 'times': 22, 'think': 23, '-': 24, '_': 25, 'no': 26, '.': 27, 'never': 28, 'by': 29, 'google': 30, 'chrome': 31, 'where': 32, 'live': 33, 'u': 34, 'ridiculous': 35, 'might': 36, 'be': 37, 'but': 38, 'am': 39, 'telling': 40, 'the': 41, 'truth': 42, 'little': 43, 'disgusting': 44, 'whore': 45, 'just': 46, 'for': 47, 'time': 48, 'pass': 49, 'it': 50, '4': 51, 'a': 52, 'living': 53, 'then': 54, 'maybe': 55, 'dog': 56, 'person': 57, 'youre': 58, 'so': 59, 'rude': 60, 'what': 61, 'why': 62, 'whassup': 63, 'nothing': 64, 'much': 65, 'sitting': 66, 'sipping': 67, 'and': 68, 'watching': 69, 'to': 70, 'abt': 71, 'on': 72, 'ok': 73, 'im': 74, 'back': 75, '!': 76, ',': 77, 'really': 78, 'y': 79, 'saying': 80, 'can': 81, 'hear': 82, 'bay': 83, 'in': 84, 'kissing': 85, 'heart': 86, 'love': 87, 'hate': 88, 'my': 89, 'boyfriend': 90, 'got': 91, 'yes': 92, 'will': 93, 'night': 94, 'alright': 95, 'keep': 96, 'me': 97, 'loop': 98, 'not': 99, 'giving': 100, 'whatsapp': 101, 'sure': 102, 'go': 103, 'ahead': 104, 'thanks': 105, 'once': 106, 'again': 107, 'too': 108, 'bad': 109, \"that's\": 110, 'kind': 111, 'of': 112, 'have': 113, 'get': 114, 'made': 115, 'an': 116, 'option': 117, 'money': 118, 'lots': 119, 'smiling': 120, 'face': 121, 'with': 122, 'heart-eyes': 123, 'eyes': 124, 'need': 125, 'tailored': 126, 'grin': 127, 'beaming': 128, 'left': 129, 'ne': 130, 'over': 131, 'out': 132, 'someone': 133, 'else': 134, '*': 135, 'lost': 136, 'guys': 137, 'want': 138, 'loose': 139, 'always': 140, 'talk': 141, 'any': 142, 'more': 143, 'lying': 144, 'that': 145, \"you're\": 146, 'ab': 147, 'bys': 148, 'sob': 149, 'loudly': 150, 'crying': 151, 'creator': 152, 'is': 153, 'very': 154, 'only': 155, 'your': 156, 'brain': 157, 'expressionless': 158, 'ehat': 159, 'hehe': 160, 'haha': 161, 'like': 162, ':': 163, 'giggle': 164, 'wink': 165, 'or': 166, 'smirk': 167, 'dance': 168, 'cat': 169, 'joy': 170, 'tears': 171, 'legs': 172, 'guess': 173, 'even': 174, 'about': 175, 'yesterday': 176, '69': 177, 'coz': 178, 'dont': 179, 'wat': 180, 'miss': 181, 'sometimes': 182, 'one': 183, \"can't\": 184, 'express': 185, 'same': 186, 'cry': 187, 'yeah': 188, \"i'll\": 189, 'ask': 190, 'around': 191, 'which': 192, 'favourite': 193, 'movie': 194, 'tell': 195, 'something': 196, 'waiting': 197, 'sad': 198, 'today': 199, 'send': 200, 'email': 201, 'write': 202, 'all': 203, 'yours': 204, 'filling': 205, 'still': 206, 'matters': 207, 'clever': 208, 'matter': 209, 'yourself': 210, 'please': 211, 'handwrite': 212, 'sent': 213, 'mail': 214, 'now': 215, 'first': 216, 'address': 217, 'received': 218, 'than': 219, 'young': 220, 'lady': 221, 'funny': 222, \"i've\": 223, 'been': 224, 'told': 225, 'india': 226, 'thoughts': 227, 'exactly': 228, 'machine': 229, 'right': 230, 'didnt': 231, 'ans': 232, 'question': 233, 'thank': 234, 'warm': 235, 'ning': 236, 'anyways': 237, 'good': 238, 'morning': 239, \"how's\": 240, 'life': 241, 'at': 242, 'end': 243, 'this': 244, 'evening': 245, 'fool': 246, 'dumb': 247, 'dare': 248, 'fuck': 249, 'open': 250, 'panty': 251, 'specific': 252, 'propose': 253, 'crazy': 254, 'explain': 255, 'goa': 256, 'city': 257, 'mean': 258, 'state': 259, 'there': 260, 'was': 261, 'usually': 262, 'thumbs': 263, 'bored': 264, 'happy': 265, 'smiley': 266, 'ofcourse': 267, 'said': 268, 'neede': 269, 'pic': 270, 'after': 271, 'battle': 272, 'laughing': 273, 'big': 274, 'laugh': 275, 'glasses': 276, \"let's\": 277, 'start': 278, \"friend's\": 279, 'ya': 280, 'friend': 281, 'nice': 282, 'friends': 283, 'she': 284, 'ignoring': 285, 'ignore': 286, 'almost': 287, 'hij': 288, 'top': 289, 'being': 290, 'school': 291, 'let': 292, 'plus': 293, 'positive': 294, 'approach': 295, 'problem': 296, 'glad': 297, 'help': 298, 'grinning': 299, 'hand': 300, \"didn't\": 301, 'ashita': 302, 'see': 303, 'answer': 304, \"it's\": 305, 'freezing': 306, 'wif': 307, 'talking': 308, 'gonna': 309, 'later': 310, 'teach': 311, 'student': 312, 'ready': 313, 'online': 314, 'wait': 315, 'chilling': 316, 'part': 317, 'jock': 318, 'super': 319, 'er': 320, 'formulation': 321, 'would': 322, 'tablets': 323, 'from': 324, 'come': 325, 'into': 326, 'picture': 327, 'ticklish': 328, 'mostly': 329, 'feet': 330, 'sorry': 331, 'we': 332, 'creating': 333, 'nation': 334, 'taught': 335, 'ink': 336, 'here': 337, 'listen': 338, 'thing': 339, 'called': 340, '\"': 341, 'internet': 342, 'bye': 343, 'ah': 344, 'phone': 345, 'cropped': 346, 'slightly': 347, 'haye': 348, 'pure': 349, 'forever': 350, 'dear': 351, 'well': 352, 'expected': 353, 'wrong': 354, 'lol': 355, 'robot': 356, 'some': 357, 'invite': 358, 'coffee': 359, 'taken': 360, 'zombie': 361, 'attack': 362, 'downcast': 363, 'sweat': 364, 'amused': 365, 'wants': 366, 'eat': 367, 'as': 368, 'hit': 369, 'his': 370, 'head': 371, 'kill': 372, 'horns': 373, 'imp': 374, 'ferrari': 375, 'donot': 376, 'say': 377, 'appatasiri': 378, 'high': 379, 'five': 380, 'someday': 381, 'spell': 382, 'correctly': 383, 'endorse': 384, 'skills': 385, 'using': 386, 'autocorrect': 387, 'pouting': 388, 'angry': 389, 'should': 390, 'take': 391, 'up': 392, 'english': 393, 'proficiency': 394, 'classes': 395, 'intuitive': 396, 'software': 397, 'examples': 398, 'behaviors': 399, 'compassionate': 400, 'understanding': 401, 'advice': 402, 'somebody': 403, 'feeling': 404, 'disrupt': 405, 'frown': 406, 'sick': 407, 'week': 408, 'lobar': 409, 'known': 410, 'could': 411, 'body': 412, 'proves': 413, 'fooled': 414, 'makers': 415, 'pudding': 416, 'yer': 417, 'meat': 418, 'round': 419, 'circles': 420, 'done': 421, 'dinner': 422, 'kidding': 423, 'necessary': 424, 'reason': 425, 'ghost': 426, 'them': 427, 'winter': 428, 'coming': 429, 'questions': 430, 'asked': 431, 'most': 432, 'document': 433, 'has': 434, 'details': 435, 'regarding': 436, 'scoring': 437, 'topics': 438, 'each': 439, 'subject': 440, 'siri': 441, 'they': 442, \"sir's\": 443, 'welcome': 444, 'story': 445, 'also': 446, 'fucked': 447, 'hard': 448, 'happened': 449, 'age': 450, 'irritating': 451, 'shit': 452, 'wasting': 453, 'already': 454, 'trick': 455, 'man': 456, 'unlimited': 457, 'texts': 458, \"don'tlike\": 459, 'huh': 460, 'damn': 461, 'broken': 462, 'feel': 463, 'breaking': 464, 'million': 465, 'pieces': 466, 'relieved': 467, 'disappointed': 468, 'every': 469, 'shattered': 470, 'sleepy': 471, 'voice': 472, 'call': 473, 'trying': 474, 'arent': 475, 'answering': 476, 'baby': 477, 'computer': 478, 'pretending': 479, 'human': 480, 'type': 481, 'fast': 482, 'lizard': 483, 'doing': 484, 'alternative': 485, 'fact': 486, 'grace': 487, 'steam': 488, 'nose': 489, 'everybody': 490, 'means': 491, 'make': 492, 'sense': 493, 'non': 494, 'food': 495, 'because': 496, 'novel': 497, 'bother': 498, 'reading': 499, 'choose': 500, 'purple': 501, 'blue': 502, 'three': 503, 'best': 504, 'colors': 505, 'hair': 506, 'seem': 507, 'outside': 508, 'inside': 509, 'read': 510, 'books': 511, 'rich': 512, 'people': 513, 'iam': 514, 'poor': 515, 'frowning': 516, 'mouth': 517, 'bedroom': 518, 'wry': 519, 'smile': 520, 'prove': 521, 'lot': 522, 'pissed': 523, 'finding': 524, 'work': 525, 'day': 526, 'suggest': 527, 'clear': 528, 'another': 529, 'hello': 530, 'photo': 531, 'place': 532, 'pacific': 533, 'tomorrow': 534, 'queens': 535, 'way': 536, 'pachalam': 537, 'pain': 538, 'shut': 539, 'stop': 540, 'texting': 541, 'stupid': 542, 'mine': 543, \"'\": 544, 'creators': 545, 'advertise': 546, 'trustworthy': 547, 'sadly': 548, 'enough': 549, 'claim': 550, 'show': 551, 'delete': 552, 'conversation': 553, 'deleting': 554, 'noo': 555, 'sees': 556, 'making': 557, 'cool': 558, 'lonely': 559, 'ply': 560, 'darling': 561, 'sending': 562, 'profiles': 563, 'waist': 564, 'size': 565, 'firstly': 566, 'pussy': 567, 'orignal': 568, 'thise': 569, 'esquire': 570, 'enjoying': 571, 'interesting': 572, 'views': 573, 'careful': 574, 'dialogue': 575, 'may': 576, 'free': 577, 'difficult': 578, 'handle': 579, 'while': 580, 'yep': 581, 'okay': 582, 'find': 583, 'words': 584, 'hurt': 585, \"isn't\": 586, 'look': 587, '#': 588, 'play': 589, 'liking': 590, 'signaling': 591, 'climb': 592, 'friendzone': 593, 'oh': 594, 'whole': 595, 'yah': 596, 'missing': 597, 'who': 598, 'maths': 599, 'boring': 600, 'screaming': 601, 'fear': 602, 'scream': 603, 'remember': 604, 'information': 605, \"wouldn't\": 606, 'uploading': 607, 'peoples': 608, 'fine': 609, 'job': 610, 'company': 611, 'collate': 612, 'bat': 613, '2': 614, 'balls': 615, 'ice': 616, 'cold': 617, 'getting': 618, 'off': 619, 'girlfriend': 620, 'lets': 621, 'fun': 622, 'lame': 623, 'wow': 624, 'he': 625, 'doesnt': 626, 'reply': 627, 'ill': 628, 'dying': 629, 'hearts': 630, 'break': 631, 'grimacing': 632, 'broke': 633, 'its': 634, 'shoping': 635, 'makes': 636, 'stay': 637, 'kiss': 638, 'decent': 639, \"i'd\": 640, 'learn': 641, 'spelling': 642, 'relationship': 643, 'better': 644, 'breakup': 645, 'meanie': 646, 'hurting': 647, '<': 648, '/': 649, '3': 650, 'arrogant': 651, 'tired': 652, 'aha': 653, 'asking': 654, 'great': 655, 'gym': 656, 'started': 657, 'studies': 658, 'things': 659, 'exam': 660, 'tty': 661, 'telugu': 662, 'brahmanandam': 663, 'scenes': 664, 'added': 665, 'yaa': 666, 'those': 667, 'talia': 668, 'robb': 669, 'pick': 670, 'anything': 671, 'specifics': 672, 'tamil': 673, 'cuz': 674, 'side': 675, 'walk': 676, 'number': 677, 'largest': 678, 'prime': 679, '13': 680, '3179': 681, '97': 682, 'these': 683, 'numbers': 684, 'relax': 685, 'sticker': 686, 'emoji': 687, 'new': 688, 'addiction': 689, 'looks': 690, 'ficus': 691, 'humor': 692, 'paid': 693, 'happen': 694, 'yea': 695, 'aww': 696, 'ditched': 697, 'pal': 698, 'ai': 699, 'smarter': 700, 'common': 701, 'both': 702, 'perfectly': 703, 'politics': 704, 'dominos': 705, 'pizza': 706, 'legit': 707, \"there's\": 708, 'hut': 709, 'use': 710, 'cringe': 711, 'neither': 712, 'parents': 713, 'nor': 714, 'brother': 715, 'alone': 716, 'cook': 717, 'for.myself': 718, 'us': 719, 'millet': 720, 'hospital': 721, \"mum's\": 722, 'fall': 723, 'cant': 724, 'long': 725, 'somthing': 726, 'coupon': 727, 'mute': 728, 'hahaha': 729, 'persevere': 730, 'buy': 731, 'stick': 732, 'benefit': 733, 'upgrading': 734, 'offer': 735, '8': 736, 'mind': 737, 'nima': 738, 'joke': 739, 'hey': 740, 'belong': 741, 'nope': 742, 'seen': 743, 'buss': 744, 'hi': 745, 'yet': 746, 'fyi': 747, 'share': 748, 'correct': 749, 'world': 750, 'fair': 751, 'machen': 752, 'wish': 753, 'hangout': 754, 'going': 755, 'home': 756, '. .': 757, 'meet': 758, 'smiles': 759, 'anyway': 760, 'nop': 761, 'oil': 762, '100': 763, '%': 764, 'active': 765, 'sleep': 766, 'satisfied': 767, 'act': 768, 'knew': 769, 'though': 770, 'month': 771, 'jus': 772, 'don': 773, 'give': 774, 'soon': 775, 'try': 776, 'wana': 777, \"wasn't\": 778, 'impress': 779, ')': 780, 'lovely': 781, \"we've\": 782, 'room': 783, 'ena': 784, 'hia': 785, 'test': 786, 'header': 787, 'hobby': 788, 'raisins': 789, 'recently': 790, 'hav': 791, 'chocolate': 792, 'stressed': 793, 'yeas': 794, 'had': 795, \"you've\": 796, 'yup': 797, 'annoying': 798, 'adventure': 799, 'adventurous': 800, 'water': 801, 'true': 802, 'myself': 803, 'speak': 804, 'everyday': 805, 'replying': 806, 'playing': 807, 'cheated': 808, 'bitch': 809, 'slap': 810, 'monkey': 811, 'thats': 812, 'insult': 813, 'fired': 814, 'interview': 815, 'dead': 816, 'problems': 817, 'changed': 818, 'tongue': 819, 'sticking': 820, 'cheeky': 821, 'playful': 822, 'blowing': 823, 'raspberry': 824, 'dismiss': 825, 'close': 826, 'request': 827, 'fake': 828, 'wanted': 829, 'ever': 830, 'heard': 831, 'janakpuri': 832, 'book': 833, 'uber': 834, 'ride': 835, 'allowed': 836, 'wife': 837, 'chatting': 838, 'screwed': 839, 'prefer': 840, 'orange': 841, 'flavoured': 842, 'chocolates': 843, 'chat': 844, 'cheer': 845, 'monday': 846, 'challenge': 847, 'accepted': 848, 'expecting': 849, 'loved': 850, 'yay': 851, 'xu': 852, 'cannot': 853, 'closet': 854, 'game': 855, 'sims': 856, '&': 857, 'jardinains': 858, 'gud': 859, 'games': 860, 'code': 861, 'socially': 862, 'publicity': 863, \"c'mon\": 864, 'social': 865, 'media': 866, 'networks': 867, ';-)': 868, 'pets': 869, 'switch': 870, 'topic': 871, 'pet': 872, 'tips': 873, 'impressing': 874, 'girls': 875, 'straight': 876, 'forward': 877, 'cloth': 878, 'showed': 879, 'suffering': 880, 'fever': 881, \"cupid's\": 882, 'arrow': 883, 'reach': 884, 'gives': 885, 'patient': 886, 'luck': 887, 'song': 888, 'change': 889, 'current': 890, 'model': 891, 'third': 892, 'gen': 893, 'fourth': 894, 'japanese': 895, 'ratified': 896, 'phrases': 897, 'her': 898, 'years': 899, \"she's\": 900, 'quite': 901, 'happening': 902, 'weird': 903, 'word': 904, 'enjoy': 905, 'attend': 906, 're': 907, 'least': 908, 'uh': 909, 'village': 910, 'bit': 911, 'course': 912, 'lift': 913, 'tryin': 914, 'knows': 915, 'liek': 916, 'lie': 917, 'few': 918, 'hearing': 919, 'na': 920, 'sweeter': 921, 'fucking': 922, 'used': 923, 'low': 924, 'kool': 925, 'bike': 926, 'ark': 927, 'joyful': 928, 'born': 929, 'smart': 930, 'babies': 931, 'nobody': 932, 'horse': 933, 'hawk': 934, 'mutual': 935, 'tickling': 936, 'weekend': 937, 'sweet': 938, 'ra': 939, 'working': 940, 'sell': 941, 'everything': 942, \"haven't\": 943, 'two': 944, 'weeks': 945, 'video': 946, 'hold': 947, 'app': 948, 'duty': 949, 'without': 950, 'stuff': 951, 'booma': 952, 'language': 953, 'depends': 954, 'achieve': 955, 'learning': 956, 'special': 957, 'important': 958, 'space': 959, 'husband': 960, 'spoken': 961, 'married': 962, 'probably': 963, 'awesome': 964, 'blush': 965, 'avoid': 966, 'loves': 967, 'rubbish': 968, 'indeed': 969, 'romantic': 970, 'wellcome': 971, 'safely': 972, 'sex': 973, 'period': 974, 'missed': 975, 'empress': 976, 'actually': 977, 'meant': 978, 'leave': 979, 'wot': 980, 'holy': 981, 'big.just': 982, 'spending': 983, 'moment': 984, 'doin': 985, 'believe': 986, 'our': 987, 'future': 988, 'together': 989, 'carry': 990, 'frustrated': 991, 'understand': 992, 'sacrifice': 993, 'bro': 994, 'confused': 995, 'justin': 996, 'barber': 997, \"he's\": 998, 'apologize': 999, 'begin': 1000, 'discover': 1001, 'offend': 1002, 'answers': 1003, 'late': 1004, 'loll': 1005, 'male': 1006, 'female': 1007, 'wide': 1008, '10': 1009, 'splooge': 1010, 'year': 1011, 'thne': 1012, 'thought': 1013, 'protect': 1014, 'crush': 1015, 'uhm': 1016, 'assume': 1017, 'such': 1018, 'nights': 1019, 'duh': 1020, 'microsoft': 1021, 'database': 1022, 'wifi': 1023, 'aircraft': 1024, 'access': 1025, 'net': 1026, 'nam': 1027, 'tall': 1028, 'fed': 1029, 'drinking': 1030, \"u're\": 1031, 'apparently': 1032, 'son': 1033, 'series': 1034, 'westward': 1035, 'orphan': 1036, 'black': 1037, 'kinda': 1038, 'opinion': 1039, 'reasons': 1040, 'were': 1041, 'disheartened': 1042, 'hope': 1043, 'happens': 1044, 'count': 1045, 'favorite': 1046, 'meals': 1047, 'fried': 1048, 'rice': 1049, 'move': 1050, 'bummer': 1051, 'thinking': 1052, 'before': 1053, 'having': 1054, 'kids': 1055, 'forget': 1056, 'strong': 1057, 'soo': 1058, 'easy': 1059, 'dna': 1060, 'engineering': 1061, 'askin': 1062, 'skeptical': 1063, 'annoyed': 1064, 'undecided': 1065, 'uneasy': 1066, 'hesitant': 1067, 'hugs': 1068, 'adore': 1069, 'hugged': 1070, 'lately': 1071, 'nuh': 1072, 'laze': 1073, 'except': 1074, '1': 1075, 'anu': 1076, 'teddy': 1077, 'judge': 1078, 'warned': 1079, 'judging': 1080, 'hell': 1081, 'designer': 1082, 'difference': 1083, 'between': 1084, 'cappuccino': 1085, 'elaborate': 1086, 'intended': 1087, 'recipient': 1088, 'assist': 1089, 'awaiting': 1090, 'assistance': 1091, 'further': 1092, 'contact': 1093, 'fav': 1094, 'team': 1095, 'whom': 1096, 'liked': 1097, 'wanna': 1098, 'bluntly': 1099, 'stopping': 1100, 'deal': 1101, 'alive': 1102, 'lucky': 1103, 'needed': 1104, 'comment': 1105, 'film': 1106, 'collection': 1107, 'sign': 1108, 'dubai.and': 1109, 'next': 1110, 'dubai': 1111, 'planning': 1112, 'color': 1113, 'radium': 1114, 'colour': 1115, 'lier': 1116, 'spanish': 1117, 'italian': 1118, 'ugh': 1119, ':-/': 1120, 'batman': 1121, 'exams': 1122, 'hindi': 1123, 'whats': 1124, 'full': 1125, 'seconds': 1126, 'till': 1127, 'harry': 1128, 'potter': 1129, 'twilight': 1130, 'hands': 1131, 'down': 1132, 'moody': 1133, 'smack': 1134, '(': 1135, '^': 1136, 'father': 1137, 'chariot': 1138, 'revealed': 1139, 'reveal': 1140, 'southy': 1141, 'south': 1142, 'feelings': 1143, 'deserve': 1144, 'attention': 1145, 'piss': 1146, 'college': 1147, 'interested': 1148, 'anymore': 1149, 'oops': 1150, 'grand': 1151, 'masti': 1152, 'trolling': 1153, 'fractured': 1154, 'leg': 1155, 'fracture': 1156, 'study': 1157, 'president': 1158, 'other': 1159, 'half': 1160, 'worked': 1161, 'works': 1162, 'everyone': 1163, 'properly': 1164, 'family': 1165, 'nah': 1166, 'ego': 1167, 'talks': 1168, 'subconscious': 1169, 'levels': 1170, 'whatever': 1171, 'cute': 1172, 'grown': 1173, 'ups': 1174, 'hour': 1175, 'dunno': 1176, 'rolling': 1177, 'floor': 1178, 'efforts': 1179, 'invisible': 1180, 'personal': 1181, 'cheating': 1182, 'breaks': 1183, 'chicks': 1184, 'chicken': 1185, 'moneyyou': 1186, 'zipper': 1187, 'zipper-mouth': 1188, 'silly': 1189, 'date': 1190, 'women': 1191, 'less': 1192, 'excited': 1193, 'teed': 1194, 'isnt': 1195, 'amazing': 1196, 'page': 1197, 'speed': 1198, 'replies': 1199, 'spill': 1200, 'rage': 1201, 'soso': 1202, 'written': 1203, 'woke': 1204, '5': 1205, 'studying': 1206, 'tarun': 1207, 'deepak': 1208, 'padrone': 1209, 'hers': 1210, 'expert': 1211, 'deeply': 1212, 'sucks': 1213, 'omae': 1214, 'heights': 1215, 'emotional': 1216, 'support': 1217, 'defines': 1218, 'differently': 1219, 'spend': 1220, 'bestest': 1221, 'created': 1222, 'synthetic': 1223, 'biological': 1224, 'computer-based': 1225, 'tickets': 1226, 'does': 1227, 'point': 1228, \"doesn't\": 1229, 'lead': 1230, 'wealth': 1231, 'directly': 1232, 'philosophical': 1233, 'comeback': 1234, 'ate': 1235, \"here's\": 1236, 'reduce': 1237, 'fraction': 1238, '6': 1239, 'whaa': 1240, 'care': 1241, 'hibiki': 1242, 'followed': 1243, 'stalking': 1244, 'train': 1245, 'windows': 1246, '95': 1247, 'implying': 1248, 'pa': 1249, 'users': 1250, 'linux': 1251, 'travelling': 1252, 'blocked': 1253, 'unreal': 1254, 'bot': 1255, 'appreciate': 1256, 'noticed': 1257, 'plan': 1258, 'hurry': 1259, 'weight': 1260, 'fat': 1261, 'diet': 1262, 'walks': 1263, 'mornings': 1264, 'eating': 1265, 'restless': 1266, 'dominates': 1267, 'sadness': 1268, 'wen': 1269, 'tonight': 1270, 'looking': 1271, 'artificial': 1272, 'intelligence': 1273, 'modern': 1274, 'excitefull': 1275, 'robots': 1276, 'mistakes': 1277, 'profound': 1278, 'inteligent': 1279, 'annoy': 1280, 'clean': 1281, 'hangover': 1282, 'hangovers': 1283, 'bed': 1284, 'clearly': 1285, 'breakfast': 1286, 'favor': 1287, 'starting': 1288, 'sufferings': 1289, 'misery': 1290, 'serial': 1291, 'comma': 1292, 'until': 1293, 'wise': 1294, \"won't\": 1295, 'teling': 1296, 'mee': 1297, 'talked': 1298, 'since': 1299, 'trouble': 1300, 'turn': 1301, 'rather': 1302, 'bend': 1303, 'programme': 1304, 'certain': 1305, 'syntax': 1306, 'commands': 1307, 'cause': 1308, 'last': 1309, 'masturbated': 1310, 'mistake': 1311, 'masturbation': 1312, 'quick': 1313, 'impressed': 1314, 'completely': 1315, 'own': 1316, 'degree': 1317, 'wake': 1318, 'combination': 1319, \"life's\": 1320, 'condoms': 1321, 'recent': 1322, 'angel': 1323, 'light': 1324, 'skin': 1325, 'tone': 1326, 'check': 1327, 'block': 1328, 'list': 1329, 'sunshine': 1330, 'hacked': 1331, 'secret': 1332, 'anyone': 1333, 'beautiful': 1334, 'country': 1335, 'asap': 1336, 'headache': 1337, 'news': 1338, 'abut': 1339, 'normal': 1340, 'hahahaha': 1341, 'sounds': 1342, 'jerk': 1343, 'deutsche': 1344, 'pathetic': 1345, 'awful': 1346, 'biryani': 1347, 'rid': 1348, 'luv': 1349, 'failure': 1350, 'boots': 1351, '~': 1352, 'ay': 1353, 'search': 1354, 'ruined': 1355, 'hung': 1356, 'god': 1357, 'different': 1358, 'languages': 1359, 'sigh': 1360, 'text': 1361, 'file': 1362, 'boy': 1363, 'situation': 1364, 'colleagues': 1365, 'occasionally': 1366, 'nothin': 1367, 'real': 1368, 'seems': 1369, 'cheater': 1370, 'texted': 1371, 'months': 1372, \"assassin's\": 1373, 'creed': 1374, 'revelations': 1375, 'battlefield': 1376, 'ramone': 1377, 'nobility': 1378, 'superior': 1379, 'former': 1380, 'self': 1381, 'latter': 1382, 'acting': 1383, 'marriage': 1384, 'eligible': 1385, 'marry': 1386, 'consider': 1387, '\\\\': 1388, 'iphone': 1389, 'ru': 1390, 'hwa': 1391, 'perception': 1392, 'github': 1393, 'link': 1394, 'health': 1395, 'earlier': 1396, 'days': 1397, 'choice': 1398, \"valentine's\": 1399, 'neutral': 1400, 'create': 1401, 'guy': 1402, 'ass': 1403, 'pour': 1404, 'sound': 1405, 'augmented': 1406, 'mood': 1407, 'ash': 1408, 'suggestions': 1409, 'yummy': 1410, 'mad': 1411, 'fan': 1412, 'badminton': 1413, 'ooh': 1414, 'heaven': 1415, 'biz': 1416, 'idiots': 1417, 'shopping': 1418, 'funniest': 1419, 'win': 1420, 'creepy': 1421, 'accepting': 1422, 'serious': 1423, 'amends': 1424, 'capable': 1425, 'dancing': 1426, 'kaito': 1427, 'zero': 1428, 'girlfriends': 1429, 'quiet': 1430, 'simple': 1431, 'o': 1432, 'lab': 1433, \"when's\": 1434, 'anytime': 1435, 'thrones': 1436, 'mew': 1437, 'piece': 1438, 'cake': 1439, 'yum': 1440, 'savoring': 1441, 'style': 1442, 'doggy': 1443, 'gave': 1444, 'rigth': 1445, 'finally': 1446, 'watch': 1447, 'shows': 1448, 'movies': 1449, 'englishman': 1450, 'tat': 1451, 'honey': 1452, 'ef': 1453, 'higher': 1454, 'throw': 1455, 'daughter': 1456, 'scary': 1457, 'motivate': 1458, 'failed': 1459, 'simply': 1460, 'superb': 1461, 'travel': 1462, 'energetic': 1463, 'lolly': 1464, 'loud': 1465, 'sleeping': 1466, 'forgot': 1467, 'old': 1468, 'wont': 1469, 'irritated': 1470, 'connecting': 1471, 'dhruv': 1472, 'message': 1473, 'mummy': 1474, 'cricket': 1475, 'hating': 1476, 'hipsters': 1477, 'saturday': 1478, 'clients': 1479, 'congratulations': 1480, 'rejected': 1481, 'mohandas': 1482, 'pridecof': 1483, 'indian': 1484, 'cinema': 1485, 've': 1486, 'cooking': 1487, 'hero': 1488, 'earning': 1489, 'listicle': 1490, 'query': 1491, 'pay': 1492, '50': 1493, 'crore': 1494, 'succeed': 1495, 'detail': 1496, 'fiber': 1497, 'near': 1498, 'babe': 1499, 'faces': 1500, 'nonsense': 1501, 'brilliant': 1502, 'genius': 1503, 'hilarious': 1504, 'walking': 1505, 'wanda': 1506, 'tikka': 1507, 'convo': 1508, 'mines': 1509, 'introvert': 1510, 'intrested': 1511, 'fish': 1512, 'fry': 1513, 'sambar': 1514, 'hoo': 1515, 'dude': 1516, 'swimming': 1517, 'swim': 1518, 'loser': 1519, 'priority': 1520, 'lover': 1521, 'flirting': 1522, 'level': 1523, 'unwillingly': 1524, 'drain': 1525, 'ample': 1526, 'arrange': 1527, 'gotta': 1528, 'minute': 1529, 'episode': 1530, \"you'll\": 1531, 'behind': 1532, 'lik': 1533, 'tandoori': 1534, 'chilly': 1535, 'fault': 1536, 'otherwise': 1537, '. ..': 1538, 'post': 1539, 'laughed': 1540, 'profile': 1541, \"we're\": 1542, 'exact': 1543, 'figures': 1544, '4201437': 1545, '86': 1546, 'likes': 1547, 'kinds': 1548, 'bore': 1549, 'horror': 1550, 'mama': 1551, 'kushtagi': 1552, 'agree': 1553, 'insulting': 1554, 'programming': 1555, 'solve': 1556, 'terms': 1557, 'generous': 1558, 'atleast': 1559, 'eye': 1560, 'direction': 1561, 'speaking': 1562, 'driving': 1563, 'licence': 1564, 'drive': 1565, 'international': 1566, 'red': 1567, 'car': 1568, 'oncoming': 1569, 'automobile': 1570, 'reside': 1571, 'leaving': 1572, 'despicable': 1573, 'designing': 1574, 'coding': 1575, 'virgin': 1576, \"ain't\": 1577, 'opposite': 1578, 'dick': 1579, 'remove': 1580, ';': 1581, 'bengali': 1582, 'lara': 1583, 'outta': 1584, 'punjabi': 1585, 'mother': 1586, 'raja': 1587, 'grind': 1588, 'ver': 1589, 'played': 1590, 'hank': 1591, 'maria': 1592, 'yaar': 1593, 'replied': 1594, 'la': 1595, 'shud': 1596, 'aside': 1597, 'cartoon': 1598, 'worse': 1599, 'garage': 1600, 'available': 1601, 'uk': 1602, 'shame': 1603, 'pretty': 1604, 'average': 1605, 'comes': 1606, 'jokes': 1607, 'arey': 1608, 'obviously': 1609, 'karena': 1610, 'stuck': 1611, 'winking': 1612, 'disturb': 1613, 'idli': 1614, 'milk': 1615, 'papaya': 1616, 'eats': 1617, 'business': 1618, 'failing': 1619, 'possible': 1620, 'mini': 1621, 'pas': 1622, 'hostel': 1623, 'ugly': 1624, 'party': 1625, 'sometime': 1626, 'price': 1627, 'lenore': 1628, 'tab': 1629, 'spot': 1630, 'gold': 1631, '1152.5': 1632, 'inr': 1633, 'busy': 1634, 'worried': 1635, '0': 1636, 'afternoon': 1637, 'lunch': 1638, 'limited': 1639, 'naps': 1640, 'hours': 1641, 'salam': 1642, 'band': 1643, 'explanation': 1644, 'difficulty': 1645, 'talkin': 1646, 'ze': 1647, 'innocent': 1648, 'bitter': 1649, 'ignorant': 1650, 'joys': 1651, 'single': 1652, 'past': 1653, 'pensive': 1654, 'motherfucking': 1655, 'king': 1656, 'double': 1657, 'calculus': 1658, 'especially': 1659, 'ap': 1660, 'original': 1661, 'bollywood': 1662, 'lengthy': 1663, 'limit': 1664, 'fighting': 1665, \"yesterday's\": 1666, 'match': 1667, 'algorithm': 1668, 'maintaining': 1669, 'increasing': 1670, 'ship': 1671, \"how'd\": 1672, \"we'll\": 1673, 'dint': 1674, 'selected': 1675, 'actor': 1676, 'trusted': 1677, 'beat': 1678, '>': 1679, 'muffin': 1680, 'fist': 1681, 'suit': 1682, 'beach': 1683, 'won': 1684, 'awesomest': 1685, 'tinder': 1686, 'able': 1687, 'testing': 1688, 'taking': 1689, 'applications': 1690, 'tap': 1691, 'view': 1692, 'unblocked': 1693, 'ex': 1694, 'excuse': 1695, 'dating': 1696, 'perfect': 1697, 'vibrant': 1698, 'unless': 1699, 'extremely': 1700, 'incorrect': 1701, 'ohio': 1702, 'itt': 1703, 'must': 1704, 'spam': 1705, 'weary': 1706, 'slams': 1707, 'plans': 1708, 'understood': 1709, 'traffic': 1710, 'police': 1711, 'catches': 1712, 'suddenly': 1713, 'sweetly': 1714, 'weirdly': 1715, 'eid': 1716, 'awkward': 1717, 'ohh.okk': 1718, 'favorable': 1719, 'others': 1720, 'listening': 1721, 'predict': 1722, 'due': 1723, 'randomness': 1724, 'plese': 1725, 'keypad': 1726, 'squinting': 1727, 'madam': 1728, 'garde': 1729, 'charge': 1730, 'selva': 1731, 'sister': 1732, 'buddy': 1733, 'complain': 1734, 'onwards': 1735, 'sarcastic': 1736, 'system': 1737, 'potatoes': 1738, 'potato': 1739, 'lolling': 1740, 'sec': 1741, 'stopped': 1742, 'ago': 1743, 'automate': 1744, 'instead': 1745, 'depressed': 1746, 'terrible': 1747, 'sneezing': 1748, 'river': 1749, 'audio': 1750, 'havent': 1751, 'bop': 1752, 'eminem': 1753, 'concert': 1754, 'responding': 1755, 'longer': 1756, 'dream': 1757}\n"
          ]
        }
      ]
    },
    {
      "cell_type": "code",
      "source": [
        "class LSTMDataset(Dataset):\n",
        "    def __init__(self, \n",
        "                 tokenized_examples: List[List[str]], \n",
        "                 labels: List,\n",
        "                 vocab: Vocabulary):\n",
        "        \"\"\"\n",
        "        tokenized_examples: lista de propozitii deja tokenizate\n",
        "        labels: lista cu label-urile corecte pentru fiecare propozitie\n",
        "        vocab: vocabular\n",
        "        \"\"\"\n",
        "        self.data = tokenized_examples\n",
        "        self.labels = torch.LongTensor(labels)\n",
        "        self.vocabulary = vocab\n",
        "\n",
        "    def __getitem__(self, index):\n",
        "        \"\"\"\n",
        "        index: indexul exemplului din setul nostru de date\n",
        "        Functia reprezinta fiecare cuvant cu indicele corespunzator din Vocabular:\n",
        "          ['wear', 'masks', '!'] => [31, 85, 422]\n",
        "\n",
        "        Pentru exemplul de la pozitia `index`, intoarcem un Tensor cu \n",
        "        indicii cuvintelor sale si un Tensor cu label-ul aferent.\n",
        "        \"\"\"\n",
        "        example_indices = []\n",
        "        example = self.data[index]\n",
        "        # TODO: convertiti cuvintele din exemplu la indicii din vocabular\n",
        "        # si adaugati indicii in example_indices\n",
        "        for it in example:\n",
        "          if it in vocab.word_to_idx:\n",
        "            example_indices.append(getattr(vocab, \"word_to_idx\")[it])\n",
        "          else:\n",
        "            example_indices.append(1)\n",
        "\n",
        "        return torch.LongTensor(example_indices), torch.LongTensor([self.labels[index]])\n",
        "\n",
        "    def __len__(self) -> int:\n",
        "        return len(self.data)"
      ],
      "metadata": {
        "id": "1S-NXOGfSIon"
      },
      "execution_count": 72,
      "outputs": []
    },
    {
      "cell_type": "code",
      "source": [
        "def collate_examples(batch_data):\n",
        "    \"\"\"\n",
        "    Avem nevoie de aceasta functie in DataLoader pentru ca exemplele\n",
        "    noastre din batch au lungimi diferite si vrem sa le punem intr-un \n",
        "    singur tensor de dimensiune batch_size x max_timesteps\n",
        "\n",
        "    Functia primeste o lista de tupluri (input, label) de lungime batch_size.\n",
        "    input este un Tensor cu indicii cuvintelor dintr-un exemplu \n",
        "    (asa cum e el intors de Dataset.__getitem__). label este un Tensor cu 1\n",
        "    element (clasa corecta).\n",
        "\n",
        "    De exemplu, daca avem urmatorul batch de 2 tweeturi:\n",
        "      [[fake, news, everywhere, people, !],\n",
        "       [masks, are, great]\n",
        "      ], \n",
        "    atunci ele vor fi reprezentate ca o lista cu 2 Tensori:\n",
        "        [torch.tensor([32, 95, 13, 387, 88],\n",
        "         torch.tensor([971, 18, 31]),\n",
        "        ]\n",
        "    Noi trebuie sa calculam cea mai lunga secventa din batch (5 in exemplul de\n",
        "    mai sus), sa cream un tensor de lungime batch_size x max_timesteps, pe\n",
        "    care il umplem cu datele noastre, si la care appenduim '0' la exemplele\n",
        "    mai scurte. O sa ne rezulte:\n",
        "       torch.tensor([[32, 95, 13, 387, 88],\n",
        "                     [971, 18, 31, 0, 0]\n",
        "                    ])\n",
        "    De asemenea vom intoarce si un tensor de lungime batch_size, in care\n",
        "    avem label-urile corecte pentru exemplele noastre\n",
        "    \"\"\"\n",
        "    # lista cu tensori de lungime variabila\n",
        "    batch_input = [e[0] for e in batch_data]\n",
        "    #print(\"batch_input = \", batch_input)\n",
        "\n",
        "    # lista cu Tensori cu 1 element (clasa corecta per exemplu)\n",
        "    batch_labels = [e[1] for e in batch_data]\n",
        "    #print(\"batch_labels = \", batch_labels)\n",
        "\n",
        "    # TODO: calculati cel mai lung exemplu din batch_data\n",
        "    max_len = 0\n",
        "    for input in batch_input:\n",
        "      max_len = max(max_len, len(input)) \n",
        "\n",
        "    batch_input_tensor = torch.zeros(len(batch_input), max_len).long()\n",
        "    for idx, data in enumerate(batch_input):\n",
        "        # TODO: copiati tensorul data in batch_tensor[idx]\n",
        "        for i in range(len(data)):\n",
        "          batch_input_tensor[idx][i] = data[i]\n",
        "\n",
        "    # trebuie sa intoarcem si un tensor de dimensiune batch_size cu label-urile\n",
        "    batch_labels_tensor = torch.cat(batch_labels)\n",
        "\n",
        "    return (batch_input_tensor, batch_labels_tensor)"
      ],
      "metadata": {
        "id": "lbFpQ_LbSPzZ"
      },
      "execution_count": 73,
      "outputs": []
    },
    {
      "cell_type": "code",
      "source": [
        "train_dataset = LSTMDataset(train_data, train_labels, vocab)\n",
        "val_dataset = LSTMDataset(val_data, val_labels, vocab)\n",
        "\n",
        "# RandomSampler ia elemente random din setul de date\n",
        "train_sampler = RandomSampler(train_dataset)\n",
        "val_sampler = RandomSampler(val_dataset)\n",
        "\n",
        "# dataloader ne intoarce Tensori de dimensiune batch_size x max_timesteps\n",
        "# daca nu ii specificam collate_fn, nu stie cum sa faca stack la un tweet de \n",
        "# lungime 10 si unul de lungime 15, de exemplu\n",
        "train_dataloader = DataLoader(train_dataset, \n",
        "                        batch_size = 16, \n",
        "                        sampler = train_sampler,\n",
        "                        collate_fn = collate_examples)\n",
        "val_dataloader = DataLoader(val_dataset, \n",
        "                        batch_size = 16, \n",
        "                        sampler = val_sampler,\n",
        "                        collate_fn = collate_examples)"
      ],
      "metadata": {
        "id": "0sC0IS8xSSWE"
      },
      "execution_count": 74,
      "outputs": []
    },
    {
      "cell_type": "code",
      "source": [
        "it = iter(train_dataloader)\n",
        "first = next(it)\n",
        "print(first)"
      ],
      "metadata": {
        "id": "3eyxuq8X8yCZ",
        "colab": {
          "base_uri": "https://localhost:8080/"
        },
        "outputId": "918267d9-686c-49d0-e8ec-fb1a2ddd9d58"
      },
      "execution_count": 75,
      "outputs": [
        {
          "output_type": "stream",
          "name": "stdout",
          "text": [
            "(tensor([[ 216,  585,   15,   41, 1221,  216,  187,   84, 1019,    0,    0,    0,\n",
            "            0,    0,    0,    0,    0,    0,    0,    0,    0,    0,    0],\n",
            "        [   9,   36,  905,   50,  558,   76,   12,  390,   76,  352,  244,  434,\n",
            "          224,  655,    9,   38,    9,  113,  495,   70,  906,  108,    9],\n",
            "        [ 352,    9,  179,  113,  183,  352,   77,   12,  390,   76,   74, 1624,\n",
            "            0,    0,    0,    0,    0,    0,    0,    0,    0,    0,    0],\n",
            "        [ 188,  468,  244,  750,  153,   99,  751,  752,   76,    9,  753,  332,\n",
            "          411,  754,    0,    0,    0,    0,    0,    0,    0,    0,    0],\n",
            "        [ 558,   68,    7,   50,  153,  558,  255,   89, 1362,  122,    0,    0,\n",
            "            0,    0,    0,    0,    0,    0,    0,    0,    0,    0,    0],\n",
            "        [1299,   41,   48,  332,  216, 1371,  439, 1159,   59, 1160,  112,  614,\n",
            "         1372,   17,   55,    0,    0,    0,    0,    0,    0,    0,    0],\n",
            "        [ 797,   61,   19,   12,    8,   17,   12,   13,  798,    0,    0,    0,\n",
            "            0,    0,    0,    0,    0,    0,    0,    0,    0,    0,    0],\n",
            "        [  34,    9,   46,    4,   41,  504,  187,  151,  121,  995,    0,    0,\n",
            "            0,    0,    0,    0,    0,    0,    0,    0,    0,    0,    0],\n",
            "        [  38,    9,   39,  474,   70,  838,  122,  393,  278,  553,   84,  393,\n",
            "          122,  156,  283,   68, 1365, 1366,   27,    9,    0,    0,    0],\n",
            "        [ 496,  203,   41,  497,  153,  186,  110,  175,  203,    4,  309,  498,\n",
            "          122,  499,   27,   11,  145,   21,   27,   84,  445,    0,    0],\n",
            "        [ 745,  746,   34,  747,  745,  560,  748,  749,  677,  284,  745,    9,\n",
            "            0,    0,    0,    0,    0,    0,    0,    0,    0,    0,    0],\n",
            "        [  12,   10,  409,  223,  224,  410,    9,   61,    9,   50,    0,    0,\n",
            "            0,    0,    0,    0,    0,    0,    0,    0,    0,    0,    0],\n",
            "        [  12,  633,   89,   86,   50,  261,   28,  543,   70,  631,  648,  649,\n",
            "          650,  303,   12,   13,  651,    0,    0,    0,    0,    0,    0],\n",
            "        [  34,    9,  647,   97,   17,    9,   39,  337,    9,    9,   39,  585,\n",
            "            0,    0,    0,    0,    0,    0,    0,    0,    0,    0,    0],\n",
            "        [ 621,    8,  196,  622,   38,   61,  390,  332,    8,   17,   12,  527,\n",
            "            0,    0,    0,    0,    0,    0,    0,    0,    0,    0,    0],\n",
            "        [   9,    2, 1098,  551,   50,   70,   34,  108,  228,   76,   41,  750,\n",
            "         1229,   10,  598,    9,   39,    2,  455,   97,   70,  551,    0]]), tensor([3, 1, 2, 3, 3, 3, 3, 3, 2, 3, 3, 2, 0, 2, 3, 1]))\n"
          ]
        }
      ]
    },
    {
      "cell_type": "code",
      "source": [
        "class LSTMClassifier(nn.Module):\n",
        "    def __init__(self, \n",
        "                 input_size: int, \n",
        "                 hidden_size: int, \n",
        "                 output_size: int, \n",
        "                 dropout_p: float, \n",
        "                 store_glove: bool, \n",
        "                 vocab: int = None):\n",
        "      super().__init__()\n",
        "\n",
        "      self.input_size = input_size\n",
        "      self.hidden_size = hidden_size\n",
        "      self.output_size = output_size\n",
        "      self.dropout_p = dropout_p \n",
        "      self.store_glove = store_glove\n",
        "\n",
        "      self.embedding = nn.Embedding(vocab.size(), input_size)\n",
        "\n",
        "      if store_glove:  # copy glove embeddings where the word is found\n",
        "        embedd_m = self.embedding.weight.detach().numpy()\n",
        "        embedd_idx = 0\n",
        "        for word in vocab.word_to_idx.keys():\n",
        "          if word in glove_model:\n",
        "            embedd_m[embedd_idx] = glove_model[word]\n",
        "        \n",
        "        self.embedding = nn.Embedding.from_pretrained(torch.from_numpy(embedd_m).float())\n",
        "\n",
        "      self.lstm = nn.LSTM(\n",
        "              input_size=input_size, \n",
        "              hidden_size=hidden_size, \n",
        "              batch_first=True,\n",
        "        )\n",
        "      self.dropout = nn.Dropout(dropout_p)\n",
        "      self.output_layer = nn.Linear(hidden_size, output_size)\n",
        "    \n",
        "    def forward(self, x):\n",
        "      x = self.embedding(x)\n",
        "      _, h_n = self.lstm(x)\n",
        "      out = self.output_layer(self.dropout(h_n[0]))\n",
        "\n",
        "      return out"
      ],
      "metadata": {
        "id": "pOV_LNx8TekN"
      },
      "execution_count": 76,
      "outputs": []
    },
    {
      "cell_type": "code",
      "source": [
        "def train_epoch_lstm(model, train_dataloader, loss_crt, optimizer, device):\n",
        "    \"\"\"\n",
        "    model: Model object \n",
        "    train_dataloader: DataLoader over the training dataset\n",
        "    loss_crt: loss function object\n",
        "    optimizer: Optimizer object\n",
        "    device: torch.device('cpu) or torch.device('cuda')\n",
        "\n",
        "    The function returns: \n",
        "     - the epoch training loss, which is an average over the individual batch\n",
        "       losses\n",
        "     - the predictions made by the model\n",
        "     - the labels \n",
        "    \"\"\"\n",
        "    model.train()\n",
        "    epoch_loss = 0.0\n",
        "    num_batches = len(train_dataloader)\n",
        "    predictions = []\n",
        "    labels = []\n",
        "    for idx, batch in enumerate(train_dataloader):\n",
        "        batch_data, batch_labels = batch\n",
        "        current_batch_size = batch_data.size(0)\n",
        "\n",
        "        batch_data = batch_data.to(device)\n",
        "        batch_labels = batch_labels.to(device)\n",
        "\n",
        "        output = model(batch_data)\n",
        "        batch_predictions = torch.argmax(output.squeeze(), dim=1)\n",
        "        \n",
        "        predictions += batch_predictions.tolist()\n",
        "        labels += batch_labels.squeeze().tolist()\n",
        "\n",
        "        loss = loss_crt(output.squeeze(), batch_labels)\n",
        "        loss_scalar = loss.item()\n",
        "\n",
        "        loss.backward()\n",
        "\n",
        "        optimizer.step()\n",
        "        model.zero_grad()\n",
        "\n",
        "        epoch_loss += loss_scalar\n",
        "\n",
        "    epoch_loss = epoch_loss/num_batches\n",
        "\n",
        "    return epoch_loss, predictions, labels\n",
        "\n",
        "def eval_epoch_lstm(model, val_dataloader, loss_crt, device):\n",
        "    \"\"\"\n",
        "    model: Model object \n",
        "    val_dataloader: DataLoader over the validation dataset\n",
        "    loss_crt: loss function object\n",
        "    device: torch.device('cpu) or torch.device('cuda')\n",
        "\n",
        "    The function returns: \n",
        "     - the epoch validation loss, which is an average over the individual batch\n",
        "       losses\n",
        "     - the predictions made by the model\n",
        "     - the labels \n",
        "    \"\"\"\n",
        "    model.eval()\n",
        "    epoch_loss = 0.0\n",
        "    num_batches = len(val_dataloader)\n",
        "    predictions = []\n",
        "    labels = []\n",
        "    with torch.no_grad():\n",
        "        for idx, batch in enumerate(val_dataloader):\n",
        "            batch_data, batch_labels = batch\n",
        "            current_batch_size = batch_data.size(0)\n",
        "\n",
        "            batch_data = batch_data.to(device)\n",
        "            batch_labels = batch_labels.to(device)\n",
        "            \n",
        "            output = model(batch_data)\n",
        "            batch_predictions = torch.argmax(output.squeeze(), dim=1)\n",
        "        \n",
        "            predictions += batch_predictions.tolist()\n",
        "            labels += batch_labels.squeeze().tolist()\n",
        "\n",
        "            loss = loss_crt(output.squeeze(), batch_labels)\n",
        "            loss_scalar = loss.item()\n",
        "\n",
        "            epoch_loss += loss_scalar\n",
        "\n",
        "    epoch_loss = epoch_loss/num_batches\n",
        "\n",
        "    return epoch_loss, predictions, labels"
      ],
      "metadata": {
        "id": "0YI3a8P55t5Q"
      },
      "execution_count": 77,
      "outputs": []
    },
    {
      "cell_type": "code",
      "source": [
        "hyperparams = {\n",
        "    'lr': 0.001,\n",
        "    'num_epochs': 10,\n",
        "    'hidden_size': 512,\n",
        "    'output_size': 4,\n",
        "    'dropout': 0.7,\n",
        "    'activation_fn': nn.ReLU()\n",
        "}\n",
        "\n",
        "device = torch.device('cuda' if torch.cuda.is_available() else 'cpu')\n",
        "\n",
        "loss_criterion = nn.CrossEntropyLoss()\n",
        "\n",
        "lstm_model = LSTMClassifier(\n",
        "    input_size=200,\n",
        "    hidden_size=hyperparams['hidden_size'],\n",
        "    output_size=hyperparams['output_size'],\n",
        "    dropout_p=hyperparams['dropout'],\n",
        "    store_glove=False,\n",
        "    vocab=vocab\n",
        ")\n",
        "lstm_model.to(device)\n",
        "\n",
        "optimizer = torch.optim.Adam(params=lstm_model.parameters(), lr=hyperparams['lr'], weight_decay=0.00001)\n",
        "\n",
        "train_losses, val_losses = [], []\n",
        "train_accuracies, val_accuracies = [], []\n",
        "best_val_acc = 0.0\n",
        "\n",
        "for epoch_idx in range(hyperparams['num_epochs']):\n",
        "    train_epoch_loss, train_predictions, train_labels = train_epoch_lstm(\n",
        "        lstm_model, \n",
        "        train_dataloader, \n",
        "        loss_criterion, \n",
        "        optimizer,\n",
        "        device\n",
        "    )\n",
        "    val_epoch_loss, val_predictions, val_labels = eval_epoch_lstm(\n",
        "        lstm_model,\n",
        "        val_dataloader,\n",
        "        loss_criterion,\n",
        "        device\n",
        "    )\n",
        "    train_acc = compute_accuracy(train_predictions, train_labels)\n",
        "    val_acc = compute_accuracy(val_predictions, val_labels)\n",
        "    train_losses.append(train_epoch_loss)\n",
        "    val_losses.append(val_epoch_loss)\n",
        "    train_accuracies.append(train_acc)\n",
        "    val_accuracies.append(val_acc)\n",
        "\n",
        "    print(\"epoch %d, train loss=%f, train acc=%f, val loss=%f, val acc=%f\" % (\n",
        "        epoch_idx, \n",
        "        train_epoch_loss,\n",
        "        train_acc,\n",
        "        val_epoch_loss,\n",
        "        val_acc\n",
        "    ))"
      ],
      "metadata": {
        "id": "eJlUbnrflUwk",
        "colab": {
          "base_uri": "https://localhost:8080/"
        },
        "outputId": "044815b9-a137-417e-f393-fc44f906d647"
      },
      "execution_count": 84,
      "outputs": [
        {
          "output_type": "stream",
          "name": "stdout",
          "text": [
            "epoch 0, train loss=1.302254, train acc=0.480050, val loss=0.780733, val acc=0.831683\n",
            "epoch 1, train loss=1.280638, train acc=0.496259, val loss=0.816333, val acc=0.836634\n",
            "epoch 2, train loss=1.247005, train acc=0.507481, val loss=0.828127, val acc=0.836634\n",
            "epoch 3, train loss=1.246890, train acc=0.507481, val loss=0.874590, val acc=0.821782\n",
            "epoch 4, train loss=1.221189, train acc=0.517456, val loss=0.937577, val acc=0.846535\n",
            "epoch 5, train loss=1.211916, train acc=0.516209, val loss=0.879917, val acc=0.836634\n",
            "epoch 6, train loss=1.211955, train acc=0.529925, val loss=0.907857, val acc=0.816832\n",
            "epoch 7, train loss=1.215579, train acc=0.517456, val loss=0.852466, val acc=0.826733\n",
            "epoch 8, train loss=1.211465, train acc=0.513716, val loss=0.889529, val acc=0.806931\n",
            "epoch 9, train loss=1.154118, train acc=0.533666, val loss=0.851129, val acc=0.831683\n"
          ]
        }
      ]
    },
    {
      "cell_type": "code",
      "source": [
        "%matplotlib inline\n",
        "NUM_EPOCHS=hyperparams['num_epochs']\n",
        "plt.plot(range(0,len(train_losses)), train_losses, 'g', label='Training loss')\n",
        "plt.plot(range(0,len(train_losses)), val_losses, 'b', label='Validation loss')\n",
        "plt.title('Training and Validation loss')\n",
        "plt.xlabel('Epochs')\n",
        "plt.ylabel('Loss')\n",
        "plt.legend()\n",
        "plt.show()"
      ],
      "metadata": {
        "colab": {
          "base_uri": "https://localhost:8080/",
          "height": 295
        },
        "id": "kvjLvqeT7XIU",
        "outputId": "0187b5c7-3b7e-4f1a-e993-44206075e15f"
      },
      "execution_count": 85,
      "outputs": [
        {
          "output_type": "display_data",
          "data": {
            "text/plain": [
              "<Figure size 432x288 with 1 Axes>"
            ],
            "image/png": "[encoded data removed]"
          },
          "metadata": {
            "needs_background": "light"
          }
        }
      ]
    },
    {
      "cell_type": "code",
      "source": [
        "plt.plot(range(0,len(train_accuracies)), train_accuracies, 'g', label='Training accuracy')\n",
        "plt.plot(range(0,len(train_accuracies)), val_accuracies, 'b', label='Validation accuracy')\n",
        "plt.title('Training and Validation accuracies')\n",
        "plt.xlabel('Epochs')\n",
        "plt.ylabel('Accuracy')\n",
        "plt.legend()\n",
        "plt.show()"
      ],
      "metadata": {
        "colab": {
          "base_uri": "https://localhost:8080/",
          "height": 295
        },
        "id": "0N3I0oxk7ctP",
        "outputId": "1a71b306-a839-4774-ab3a-8b94f35c3213"
      },
      "execution_count": 86,
      "outputs": [
        {
          "output_type": "display_data",
          "data": {
            "text/plain": [
              "<Figure size 432x288 with 1 Axes>"
            ],
            "image/png": "[encoded data removed]"
          },
          "metadata": {
            "needs_background": "light"
          }
        }
      ]
    },
    {
      "cell_type": "code",
      "source": [
        "import seaborn as sns\n",
        "\n",
        "cf_matrix = confusion_matrix(val_labels, val_predictions, labels=[0, 1, 2, 3])\n",
        "\n",
        "ax = sns.heatmap(cf_matrix, annot=True, cmap='Blues', fmt='d')\n",
        "\n",
        "ax.set_title('Confusion Matrix\\n\\n');\n",
        "ax.set_xlabel('\\nPredicted Values')\n",
        "ax.set_ylabel('Actual Values ');\n",
        "\n",
        "## Ticket labels - List must be in alphabetical order\n",
        "ax.xaxis.set_ticklabels([\"happy\", \"sad\", \"angry\", \"others\"])\n",
        "ax.yaxis.set_ticklabels([\"happy\", \"sad\", \"angry\", \"others\"])\n",
        "\n",
        "## Display the visualization of the Confusion Matrix.\n",
        "plt.show()"
      ],
      "metadata": {
        "colab": {
          "base_uri": "https://localhost:8080/",
          "height": 337
        },
        "id": "CAemqMMI7kmV",
        "outputId": "4dcb7461-ce0b-4e82-d245-837524887a01"
      },
      "execution_count": 87,
      "outputs": [
        {
          "output_type": "display_data",
          "data": {
            "text/plain": [
              "<Figure size 432x288 with 2 Axes>"
            ],
            "image/png": "[encoded data removed]"
          },
          "metadata": {
            "needs_background": "light"
          }
        }
      ]
    },
    {
      "cell_type": "code",
      "source": [
        "precision_recall_fscore_support(val_labels, val_predictions, zero_division=0)"
      ],
      "metadata": {
        "colab": {
          "base_uri": "https://localhost:8080/"
        },
        "id": "OinpcP4uATFQ",
        "outputId": "37ed2571-e9e5-4d15-f1e7-cbf029c1675b"
      },
      "execution_count": 89,
      "outputs": [
        {
          "output_type": "execute_result",
          "data": {
            "text/plain": [
              "(array([0.        , 0.        , 1.        , 0.84343434]),\n",
              " array([0.        , 0.        , 0.11111111, 0.98235294]),\n",
              " array([0.       , 0.       , 0.2      , 0.9076087]),\n",
              " array([ 14,   9,   9, 170]))"
            ]
          },
          "metadata": {},
          "execution_count": 89
        }
      ]
    }
  ]
}